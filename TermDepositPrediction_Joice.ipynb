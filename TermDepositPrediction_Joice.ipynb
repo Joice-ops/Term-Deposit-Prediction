{
 "cells": [
  {
   "cell_type": "markdown",
   "id": "a7dc5cb7-fe39-427f-b112-ec146cfd5607",
   "metadata": {},
   "source": [
    "# Term Deposit Prediction"
   ]
  },
  {
   "cell_type": "markdown",
   "id": "556bd8c8-1a58-4be8-81b8-991997e9f62c",
   "metadata": {},
   "source": [
    "## Introduction\n",
    "\n",
    "**Project Background:**\n",
    "In today's competitive banking industry, accurately predicting whether a customer will subscribe to a term deposit is crucial for optimizing marketing strategies and protecting critical business interests. The data for this project is orginally derived from direct marketing campaigns of a Portuguese banking institution by [UC Irvine Machine Learning Repository](https://archive.ics.uci.edu/dataset/222/bank+marketing). These campaigns were conducted via phone calls, often requiring multiple contacts with the same client to determine whether they would subscribe to the term deposit ('yes') or not ('no'). The dataset comprises 45,211 instances, reflecting the substantial effort involved in these marketing activities.\n",
    "\n",
    "**Problem Statement:**\n",
    "+ A significant number of false positives, where non-subscribers are incorrectly predicted as subscribers, can lead to substantial business losses by allocating resources inefficiently and damaging customer relationships.\n",
    "\n",
    "+ In this project, the number of false positives far exceeds the number of false negatives, with low precision and recall rates when predicting non-subscribers.\n",
    "\n",
    "+ The primary objective is to develop predictive models that effectively minimize false positives, particularly within the context of this imbalanced dataset.\n",
    "\n",
    "**Machine Learning Models:**\n",
    "+ Three machine learning models were evaluated: Logistic Regression, Support Vector Machine (SVM), and Random Forest.\n",
    "  \n",
    "+ After thorough analysis and comparison based on the aim of this project, the SVM model outperformed the other two in key performance metrics.\n",
    "\n",
    "**Insights:**\n",
    "+ The low precision and recall rates for predicting non-subscribers highlight the difficulty in distinguishing between subscribers and non-subscribers.\n",
    "\n",
    "+ This imbalance can lead to models that are biased towards predicting the majority class, increasing the risk of false positives.\n",
    "\n",
    "+ False positives are particularly costly in this context, as predicting a non-subscriber as a subscriber can lead to wasted marketing efforts, misallocation of resources, and potentially strained customer relationships.\n"
   ]
  },
  {
   "cell_type": "markdown",
   "id": "f4b37f80-8648-4fa2-8b91-ff1965ac30f9",
   "metadata": {},
   "source": [
    "### Import Libraries and Load dataset"
   ]
  },
  {
   "cell_type": "code",
   "execution_count": 1,
   "id": "4ebad875-2a8d-49cd-8079-e0f487e51913",
   "metadata": {},
   "outputs": [],
   "source": [
    "import pandas as pd\n",
    "import numpy as np\n",
    "import matplotlib.pyplot as plt \n",
    "import seaborn as sns"
   ]
  },
  {
   "cell_type": "code",
   "execution_count": 2,
   "id": "0be13a6a-4689-4b7c-ac7a-c9042c81d161",
   "metadata": {},
   "outputs": [],
   "source": [
    "df = pd.read_csv('D:\\\\concordia-bootcamps\\\\M6 Project\\\\bank marketing prediction\\\\bank-full.csv', sep=';')"
   ]
  },
  {
   "cell_type": "markdown",
   "id": "a3ff13ad-dad0-4527-ac15-ec7e9fd0af35",
   "metadata": {},
   "source": [
    "### Exploratory Data Analysis (EDA)"
   ]
  },
  {
   "cell_type": "markdown",
   "id": "803eeedd-456f-4ae0-8011-d2a32669108f",
   "metadata": {},
   "source": [
    "#### 1. Inspect dataset"
   ]
  },
  {
   "cell_type": "code",
   "execution_count": 7,
   "id": "04fc8121-fba9-4af8-8514-911436119f01",
   "metadata": {},
   "outputs": [
    {
     "data": {
      "text/html": [
       "<div>\n",
       "<style scoped>\n",
       "    .dataframe tbody tr th:only-of-type {\n",
       "        vertical-align: middle;\n",
       "    }\n",
       "\n",
       "    .dataframe tbody tr th {\n",
       "        vertical-align: top;\n",
       "    }\n",
       "\n",
       "    .dataframe thead th {\n",
       "        text-align: right;\n",
       "    }\n",
       "</style>\n",
       "<table border=\"1\" class=\"dataframe\">\n",
       "  <thead>\n",
       "    <tr style=\"text-align: right;\">\n",
       "      <th></th>\n",
       "      <th>age</th>\n",
       "      <th>job</th>\n",
       "      <th>marital</th>\n",
       "      <th>education</th>\n",
       "      <th>default</th>\n",
       "      <th>balance</th>\n",
       "      <th>housing</th>\n",
       "      <th>loan</th>\n",
       "      <th>contact</th>\n",
       "      <th>day</th>\n",
       "      <th>month</th>\n",
       "      <th>duration</th>\n",
       "      <th>campaign</th>\n",
       "      <th>pdays</th>\n",
       "      <th>previous</th>\n",
       "      <th>poutcome</th>\n",
       "      <th>y</th>\n",
       "    </tr>\n",
       "  </thead>\n",
       "  <tbody>\n",
       "    <tr>\n",
       "      <th>14749</th>\n",
       "      <td>43</td>\n",
       "      <td>technician</td>\n",
       "      <td>single</td>\n",
       "      <td>secondary</td>\n",
       "      <td>no</td>\n",
       "      <td>326</td>\n",
       "      <td>yes</td>\n",
       "      <td>no</td>\n",
       "      <td>cellular</td>\n",
       "      <td>15</td>\n",
       "      <td>jul</td>\n",
       "      <td>87</td>\n",
       "      <td>8</td>\n",
       "      <td>-1</td>\n",
       "      <td>0</td>\n",
       "      <td>unknown</td>\n",
       "      <td>no</td>\n",
       "    </tr>\n",
       "    <tr>\n",
       "      <th>3650</th>\n",
       "      <td>28</td>\n",
       "      <td>blue-collar</td>\n",
       "      <td>single</td>\n",
       "      <td>primary</td>\n",
       "      <td>no</td>\n",
       "      <td>643</td>\n",
       "      <td>yes</td>\n",
       "      <td>no</td>\n",
       "      <td>unknown</td>\n",
       "      <td>15</td>\n",
       "      <td>may</td>\n",
       "      <td>297</td>\n",
       "      <td>1</td>\n",
       "      <td>-1</td>\n",
       "      <td>0</td>\n",
       "      <td>unknown</td>\n",
       "      <td>no</td>\n",
       "    </tr>\n",
       "    <tr>\n",
       "      <th>20611</th>\n",
       "      <td>59</td>\n",
       "      <td>retired</td>\n",
       "      <td>married</td>\n",
       "      <td>secondary</td>\n",
       "      <td>no</td>\n",
       "      <td>566</td>\n",
       "      <td>no</td>\n",
       "      <td>no</td>\n",
       "      <td>cellular</td>\n",
       "      <td>12</td>\n",
       "      <td>aug</td>\n",
       "      <td>464</td>\n",
       "      <td>4</td>\n",
       "      <td>-1</td>\n",
       "      <td>0</td>\n",
       "      <td>unknown</td>\n",
       "      <td>no</td>\n",
       "    </tr>\n",
       "    <tr>\n",
       "      <th>22919</th>\n",
       "      <td>51</td>\n",
       "      <td>management</td>\n",
       "      <td>married</td>\n",
       "      <td>tertiary</td>\n",
       "      <td>no</td>\n",
       "      <td>9864</td>\n",
       "      <td>no</td>\n",
       "      <td>no</td>\n",
       "      <td>cellular</td>\n",
       "      <td>26</td>\n",
       "      <td>aug</td>\n",
       "      <td>69</td>\n",
       "      <td>4</td>\n",
       "      <td>-1</td>\n",
       "      <td>0</td>\n",
       "      <td>unknown</td>\n",
       "      <td>no</td>\n",
       "    </tr>\n",
       "    <tr>\n",
       "      <th>22916</th>\n",
       "      <td>42</td>\n",
       "      <td>management</td>\n",
       "      <td>married</td>\n",
       "      <td>tertiary</td>\n",
       "      <td>no</td>\n",
       "      <td>0</td>\n",
       "      <td>no</td>\n",
       "      <td>no</td>\n",
       "      <td>cellular</td>\n",
       "      <td>26</td>\n",
       "      <td>aug</td>\n",
       "      <td>179</td>\n",
       "      <td>16</td>\n",
       "      <td>-1</td>\n",
       "      <td>0</td>\n",
       "      <td>unknown</td>\n",
       "      <td>no</td>\n",
       "    </tr>\n",
       "  </tbody>\n",
       "</table>\n",
       "</div>"
      ],
      "text/plain": [
       "       age          job  marital  education default  balance housing loan  \\\n",
       "14749   43   technician   single  secondary      no      326     yes   no   \n",
       "3650    28  blue-collar   single    primary      no      643     yes   no   \n",
       "20611   59      retired  married  secondary      no      566      no   no   \n",
       "22919   51   management  married   tertiary      no     9864      no   no   \n",
       "22916   42   management  married   tertiary      no        0      no   no   \n",
       "\n",
       "        contact  day month  duration  campaign  pdays  previous poutcome   y  \n",
       "14749  cellular   15   jul        87         8     -1         0  unknown  no  \n",
       "3650    unknown   15   may       297         1     -1         0  unknown  no  \n",
       "20611  cellular   12   aug       464         4     -1         0  unknown  no  \n",
       "22919  cellular   26   aug        69         4     -1         0  unknown  no  \n",
       "22916  cellular   26   aug       179        16     -1         0  unknown  no  "
      ]
     },
     "execution_count": 7,
     "metadata": {},
     "output_type": "execute_result"
    }
   ],
   "source": [
    "df.sample(5)"
   ]
  },
  {
   "cell_type": "code",
   "execution_count": 9,
   "id": "20c92ad4-05f0-4910-b98b-52ff86163b12",
   "metadata": {},
   "outputs": [
    {
     "data": {
      "text/plain": [
       "Index(['age', 'job', 'marital', 'education', 'default', 'balance', 'housing',\n",
       "       'loan', 'contact', 'day', 'month', 'duration', 'campaign', 'pdays',\n",
       "       'previous', 'poutcome', 'y'],\n",
       "      dtype='object')"
      ]
     },
     "execution_count": 9,
     "metadata": {},
     "output_type": "execute_result"
    }
   ],
   "source": [
    "df.columns"
   ]
  },
  {
   "cell_type": "code",
   "execution_count": 11,
   "id": "ed8bba81-71d2-43f3-8dc7-e1771180b93b",
   "metadata": {},
   "outputs": [
    {
     "name": "stdout",
     "output_type": "stream",
     "text": [
      "<class 'pandas.core.frame.DataFrame'>\n",
      "RangeIndex: 45211 entries, 0 to 45210\n",
      "Data columns (total 17 columns):\n",
      " #   Column     Non-Null Count  Dtype \n",
      "---  ------     --------------  ----- \n",
      " 0   age        45211 non-null  int64 \n",
      " 1   job        45211 non-null  object\n",
      " 2   marital    45211 non-null  object\n",
      " 3   education  45211 non-null  object\n",
      " 4   default    45211 non-null  object\n",
      " 5   balance    45211 non-null  int64 \n",
      " 6   housing    45211 non-null  object\n",
      " 7   loan       45211 non-null  object\n",
      " 8   contact    45211 non-null  object\n",
      " 9   day        45211 non-null  int64 \n",
      " 10  month      45211 non-null  object\n",
      " 11  duration   45211 non-null  int64 \n",
      " 12  campaign   45211 non-null  int64 \n",
      " 13  pdays      45211 non-null  int64 \n",
      " 14  previous   45211 non-null  int64 \n",
      " 15  poutcome   45211 non-null  object\n",
      " 16  y          45211 non-null  object\n",
      "dtypes: int64(7), object(10)\n",
      "memory usage: 5.9+ MB\n"
     ]
    }
   ],
   "source": [
    "# Check each col datatype\n",
    "df.info()"
   ]
  },
  {
   "cell_type": "code",
   "execution_count": 13,
   "id": "58fc6515-6abd-4fec-b62e-b984680dd0ea",
   "metadata": {},
   "outputs": [
    {
     "data": {
      "text/plain": [
       "age          0\n",
       "job          0\n",
       "marital      0\n",
       "education    0\n",
       "default      0\n",
       "balance      0\n",
       "housing      0\n",
       "loan         0\n",
       "contact      0\n",
       "day          0\n",
       "month        0\n",
       "duration     0\n",
       "campaign     0\n",
       "pdays        0\n",
       "previous     0\n",
       "poutcome     0\n",
       "y            0\n",
       "dtype: int64"
      ]
     },
     "execution_count": 13,
     "metadata": {},
     "output_type": "execute_result"
    }
   ],
   "source": [
    "# Check the sum of null values in each col\n",
    "df.isnull().sum()"
   ]
  },
  {
   "cell_type": "code",
   "execution_count": 15,
   "id": "6cecf6f2-0605-4e43-bb9a-864bf044a1fb",
   "metadata": {
    "scrolled": true
   },
   "outputs": [
    {
     "name": "stdout",
     "output_type": "stream",
     "text": [
      "\n",
      "\n",
      "job\n",
      "blue-collar      9732\n",
      "management       9458\n",
      "technician       7597\n",
      "admin.           5171\n",
      "services         4154\n",
      "retired          2264\n",
      "self-employed    1579\n",
      "entrepreneur     1487\n",
      "unemployed       1303\n",
      "housemaid        1240\n",
      "student           938\n",
      "unknown           288\n",
      "Name: count, dtype: int64\n",
      "\n",
      "\n",
      "marital\n",
      "married     27214\n",
      "single      12790\n",
      "divorced     5207\n",
      "Name: count, dtype: int64\n",
      "\n",
      "\n",
      "education\n",
      "secondary    23202\n",
      "tertiary     13301\n",
      "primary       6851\n",
      "unknown       1857\n",
      "Name: count, dtype: int64\n",
      "\n",
      "\n",
      "housing\n",
      "yes    25130\n",
      "no     20081\n",
      "Name: count, dtype: int64\n",
      "\n",
      "\n",
      "default\n",
      "no     44396\n",
      "yes      815\n",
      "Name: count, dtype: int64\n",
      "\n",
      "\n",
      "loan\n",
      "no     37967\n",
      "yes     7244\n",
      "Name: count, dtype: int64\n",
      "\n",
      "\n",
      "contact\n",
      "cellular     29285\n",
      "unknown      13020\n",
      "telephone     2906\n",
      "Name: count, dtype: int64\n",
      "\n",
      "\n",
      "pdays\n",
      "-1      36954\n",
      " 182      167\n",
      " 92       147\n",
      " 91       126\n",
      " 183      126\n",
      "        ...  \n",
      " 449        1\n",
      " 452        1\n",
      " 648        1\n",
      " 595        1\n",
      " 530        1\n",
      "Name: count, Length: 559, dtype: int64\n",
      "\n",
      "\n",
      "poutcome\n",
      "unknown    36959\n",
      "failure     4901\n",
      "other       1840\n",
      "success     1511\n",
      "Name: count, dtype: int64\n",
      "\n",
      "\n",
      "month\n",
      "may    13766\n",
      "jul     6895\n",
      "aug     6247\n",
      "jun     5341\n",
      "nov     3970\n",
      "apr     2932\n",
      "feb     2649\n",
      "jan     1403\n",
      "oct      738\n",
      "sep      579\n",
      "mar      477\n",
      "dec      214\n",
      "Name: count, dtype: int64\n",
      "\n",
      "\n",
      "day\n",
      "20    2752\n",
      "18    2308\n",
      "21    2026\n",
      "17    1939\n",
      "6     1932\n",
      "5     1910\n",
      "14    1848\n",
      "8     1842\n",
      "28    1830\n",
      "7     1817\n",
      "19    1757\n",
      "29    1745\n",
      "15    1703\n",
      "12    1603\n",
      "13    1585\n",
      "30    1566\n",
      "9     1561\n",
      "11    1479\n",
      "4     1445\n",
      "16    1415\n",
      "2     1293\n",
      "27    1121\n",
      "3     1079\n",
      "26    1035\n",
      "23     939\n",
      "22     905\n",
      "25     840\n",
      "31     643\n",
      "10     524\n",
      "24     447\n",
      "1      322\n",
      "Name: count, dtype: int64\n",
      "\n",
      "\n",
      "y\n",
      "no     39922\n",
      "yes     5289\n",
      "Name: count, dtype: int64\n"
     ]
    }
   ],
   "source": [
    "# Check categorical cols value counts\n",
    "categorical_columns = ['job', 'marital', \n",
    "                       'education', 'housing',\n",
    "                       'default', 'loan',\n",
    "                       'contact', 'pdays',\n",
    "                       'poutcome', 'month', \n",
    "                       'day', 'y']\n",
    "\n",
    "for col in categorical_columns:\n",
    "    print('\\n')\n",
    "    print(df[col].value_counts())"
   ]
  },
  {
   "cell_type": "code",
   "execution_count": 17,
   "id": "5c6773be-60f0-4f47-98f8-7a56b343434b",
   "metadata": {},
   "outputs": [],
   "source": [
    "# Rename the target col\n",
    "df.rename(columns={'y': 'term deposit'}, inplace=True)"
   ]
  },
  {
   "cell_type": "markdown",
   "id": "d98eb410-eb0a-47ec-a0b5-06f6de274c4e",
   "metadata": {},
   "source": [
    "#### 2. Checking Inconsistent Data\n",
    "As data source mentioned, when 'passed days' = -1, which means client was not previously contacted, then we should have 0 value in 'previous', and 'unknown' outcome in 'poutcome'."
   ]
  },
  {
   "cell_type": "code",
   "execution_count": 20,
   "id": "4571b651-409e-4723-9b02-a77da81b2681",
   "metadata": {},
   "outputs": [
    {
     "name": "stdout",
     "output_type": "stream",
     "text": [
      "pdays  previous  poutcome\n",
      "-1     0         unknown     36954\n",
      "Name: count, dtype: int64\n"
     ]
    }
   ],
   "source": [
    "filtered_df = df[df['pdays'] == -1][['pdays', 'previous', 'poutcome']]\n",
    "print(filtered_df.value_counts())"
   ]
  },
  {
   "cell_type": "markdown",
   "id": "afd8b97c-ac51-48b9-9f63-fde1d3d0c809",
   "metadata": {},
   "source": [
    "#### 3. Data Visualization"
   ]
  },
  {
   "cell_type": "code",
   "execution_count": 23,
   "id": "13f1d7a8-270f-4cfa-b3ad-c06087b9c809",
   "metadata": {},
   "outputs": [],
   "source": [
    "# Create a copy of df\n",
    "bank = df.copy()"
   ]
  },
  {
   "cell_type": "markdown",
   "id": "a7026cf7-588b-4652-98b6-5677947ed5fc",
   "metadata": {},
   "source": [
    "#### 3.1 Distribution of the Target Variable (Term Deposit)"
   ]
  },
  {
   "cell_type": "code",
   "execution_count": 26,
   "id": "8b4c4ba2-c939-4e80-81ed-8999694dba26",
   "metadata": {},
   "outputs": [
    {
     "data": {
      "image/png": "[encoded data removed]",
      "text/plain": [
       "<Figure size 640x480 with 1 Axes>"
      ]
     },
     "metadata": {},
     "output_type": "display_data"
    }
   ],
   "source": [
    "sns.countplot(data=bank, \n",
    "              x='term deposit', \n",
    "              hue='term deposit', \n",
    "              palette='Set2')\n",
    "\n",
    "plt.title('Distribution of Term Deposit subscription')\n",
    "plt.show()"
   ]
  },
  {
   "cell_type": "markdown",
   "id": "48409d66-aeca-4dd6-ad37-a9b7f620515a",
   "metadata": {},
   "source": [
    "**Summary:** Given that the dataset is highly imbalanced, with subscribed customers making up only 11%, this imbalance is likely to result in poor model performance on the minority class. Additionally, the accuracy score may be misleadingly high, as the model could perform well simply by predicting that customers are unsubscribed."
   ]
  },
  {
   "cell_type": "markdown",
   "id": "a6a08f22-ba5a-4103-80a0-ac9171ea824c",
   "metadata": {},
   "source": [
    "#### 3.2 Distribution of Age"
   ]
  },
  {
   "cell_type": "code",
   "execution_count": 30,
   "id": "76dee09d-485e-48f0-ba8c-1091d7318a4d",
   "metadata": {},
   "outputs": [
    {
     "data": {
      "image/png": "[encoded data removed]",
      "text/plain": [
       "<Figure size 640x480 with 1 Axes>"
      ]
     },
     "metadata": {},
     "output_type": "display_data"
    }
   ],
   "source": [
    "sns.boxplot(data=bank, \n",
    "            y='age', \n",
    "            hue='term deposit')\n",
    "\n",
    "plt.title('Distribution of Age')\n",
    "plt.xlabel('Term Deposit')\n",
    "plt.show()"
   ]
  },
  {
   "cell_type": "code",
   "execution_count": 32,
   "id": "7546451c-103f-4f6a-9087-6bbedcd2dada",
   "metadata": {},
   "outputs": [
    {
     "name": "stdout",
     "output_type": "stream",
     "text": [
      "Age standard deviation: 10.618762040975431\n",
      "Min Age: 18\n",
      "Max Age: 95\n"
     ]
    }
   ],
   "source": [
    "print('Age standard deviation:', bank['age'].std())\n",
    "print('Min Age:', bank['age'].min())\n",
    "print('Max Age:', bank['age'].max())"
   ]
  },
  {
   "cell_type": "markdown",
   "id": "c7ba2d2b-b239-4e66-b395-ffa9bcc548d7",
   "metadata": {},
   "source": [
    "**Summary:**\n",
    "The median age of customers who subscribed to a term deposit is slightly higher than those who did not. with a minimum age of 18 and maximum age of 95 , both groups have a number of outliers, which are ages that lie significantly outside the normal range(18, 70)."
   ]
  },
  {
   "cell_type": "markdown",
   "id": "6c245920-d692-4a04-b5db-fb77ef10a621",
   "metadata": {},
   "source": [
    "#### 3.3 Distribution of Job by Term Deposit"
   ]
  },
  {
   "cell_type": "code",
   "execution_count": 36,
   "id": "939b24a3-4108-4275-874a-d3251686737d",
   "metadata": {},
   "outputs": [
    {
     "data": {
      "image/png": "[encoded data removed]",
      "text/plain": [
       "<Figure size 2000x1000 with 1 Axes>"
      ]
     },
     "metadata": {},
     "output_type": "display_data"
    }
   ],
   "source": [
    "plt.figure(figsize=(20,10))\n",
    "sns.countplot(data=bank, \n",
    "              x='job', \n",
    "              hue='term deposit', \n",
    "              stat='proportion', \n",
    "              palette='Set2')\n",
    "\n",
    "plt.title('Distribution of Customer Jobs by Term Deposit Status')\n",
    "plt.show()"
   ]
  },
  {
   "cell_type": "code",
   "execution_count": 37,
   "id": "dc783311-eb9a-4d54-85d9-29953a4b4c64",
   "metadata": {},
   "outputs": [
    {
     "name": "stdout",
     "output_type": "stream",
     "text": [
      "Mean Balance in each job: \n",
      "\n",
      " job\n",
      "retired          1984.215106\n",
      "unknown          1772.357639\n",
      "management       1763.616832\n",
      "self-employed    1647.970868\n",
      "unemployed       1521.745971\n",
      "entrepreneur     1521.470074\n",
      "housemaid        1392.395161\n",
      "student          1388.060768\n",
      "technician       1252.632092\n",
      "admin.           1135.838909\n",
      "blue-collar      1078.826654\n",
      "services          997.088108\n",
      "Name: balance, dtype: float64\n"
     ]
    }
   ],
   "source": [
    "# Check the mean balance for each job category\n",
    "mean_balance_job = bank.groupby('job')['balance'].mean()\n",
    "ordered_mean_balance = mean_balance_job.sort_values(ascending=False)\n",
    "print('Mean Balance in each job: \\n\\n', ordered_mean_balance)"
   ]
  },
  {
   "cell_type": "markdown",
   "id": "516b7d66-958f-4c4b-b016-ea6e9e7b976d",
   "metadata": {},
   "source": [
    "**Summary:** With the mean stats in each job category, there is a noticeable differences in average balances, with some groups having much higher average balances than others. The highest mean balances group are 'retired' individuals (1984.22), 'unknown'(1772.36), and 'management'(1763.62). "
   ]
  },
  {
   "cell_type": "code",
   "execution_count": 41,
   "id": "0c91647d-6e07-445c-a7d5-94aa7f8b9b88",
   "metadata": {},
   "outputs": [
    {
     "name": "stdout",
     "output_type": "stream",
     "text": [
      "Standard Deviation in each job: \n",
      "\n",
      " job\n",
      "retired          4397.044177\n",
      "entrepreneur     4153.442626\n",
      "management       3822.965605\n",
      "self-employed    3684.259573\n",
      "unemployed       3144.666754\n",
      "housemaid        2984.692098\n",
      "unknown          2970.288559\n",
      "admin.           2641.962686\n",
      "technician       2548.544019\n",
      "student          2441.703526\n",
      "blue-collar      2240.523208\n",
      "services         2164.493505\n",
      "Name: balance, dtype: float64\n"
     ]
    }
   ],
   "source": [
    "# Check the std balance for each job category\n",
    "std_balance_job = bank.groupby('job')['balance'].std()\n",
    "ordered_std_balance = std_balance_job.sort_values(ascending=False)\n",
    "print('Standard Deviation in each job: \\n\\n', ordered_std_balance)"
   ]
  },
  {
   "cell_type": "markdown",
   "id": "64f64493-b6eb-4c36-98a4-9707e82fea8f",
   "metadata": {},
   "source": [
    "**Summary:**  The standard deviation values illustrate the extent of variability in financial outcomes across different job categories, with some categories exhibiting more diversity in outcomes than others. The top three highest group are 'retired', 'entrepreneur', and 'management' which suggest that there is a significant diversity in balances among people in these categories."
   ]
  },
  {
   "cell_type": "markdown",
   "id": "31d1607d-f66e-4b2a-8d65-6d69db774740",
   "metadata": {},
   "source": [
    "#### 3.4 Distribution of Balance"
   ]
  },
  {
   "cell_type": "code",
   "execution_count": 45,
   "id": "de0b68a1-b56b-437c-a1dd-5b0ce1da31a4",
   "metadata": {},
   "outputs": [
    {
     "data": {
      "image/png": "[encoded data removed]",
      "text/plain": [
       "<Figure size 800x600 with 1 Axes>"
      ]
     },
     "metadata": {},
     "output_type": "display_data"
    }
   ],
   "source": [
    "plt.figure(figsize=(8, 6))\n",
    "sns.histplot(data=bank, \n",
    "             x='balance')\n",
    "\n",
    "plt.title('Distribution of Balance')\n",
    "plt.show()"
   ]
  },
  {
   "cell_type": "markdown",
   "id": "a061cbd4-e5cf-4921-98bc-00bf64c13b93",
   "metadata": {},
   "source": [
    "**Summary:** The distribution is highly skewed to the right, with the majority of values concentrated around lower balances (close to zero). With a long right tail, it suggests the presence of outliers in 'balance', where the balance is significantly higher than the majority of the data, causing the distribution to be heavily skewed."
   ]
  },
  {
   "cell_type": "markdown",
   "id": "bbb7544f-77f8-4976-8a1f-e172cfc767d6",
   "metadata": {},
   "source": [
    "#### 3.5 Distribution of Marital status by Term Deposit"
   ]
  },
  {
   "cell_type": "code",
   "execution_count": 49,
   "id": "79039a0b-4c5f-4b5d-9014-a7672248598d",
   "metadata": {},
   "outputs": [
    {
     "data": {
      "image/png": "[encoded data removed]",
      "text/plain": [
       "<Figure size 640x480 with 1 Axes>"
      ]
     },
     "metadata": {},
     "output_type": "display_data"
    }
   ],
   "source": [
    "sns.countplot(data=bank, \n",
    "              x='marital', \n",
    "              hue='term deposit', \n",
    "              stat='proportion', \n",
    "              orient='v', \n",
    "              palette='Set2')\n",
    "\n",
    "plt.title('Marital status Versus Term Deposit')\n",
    "plt.show()"
   ]
  },
  {
   "cell_type": "markdown",
   "id": "2fdc2f3d-7679-42cc-971a-2d7542c31d7d",
   "metadata": {},
   "source": [
    "**Summary:** The bar plot displays the relationship between marital status and the likelihood of subscribing to a term deposit. The majority are married individuals, however, only a small proportion subscirbes to term deposit. Single and Divorced individuals are similar to married, most did not subscribe, small proportion did."
   ]
  },
  {
   "cell_type": "markdown",
   "id": "9640ad05-0a96-4389-be98-ce338de60281",
   "metadata": {},
   "source": [
    "#### 3.6 Distribution of Education levels by Term Deposit"
   ]
  },
  {
   "cell_type": "code",
   "execution_count": 53,
   "id": "9951c83e-42e7-49d8-970c-d8c0867d01c1",
   "metadata": {},
   "outputs": [
    {
     "data": {
      "image/png": "[encoded data removed]",
      "text/plain": [
       "<Figure size 640x480 with 1 Axes>"
      ]
     },
     "metadata": {},
     "output_type": "display_data"
    }
   ],
   "source": [
    "sns.histplot(data=bank, \n",
    "             x='education', \n",
    "             hue='term deposit', \n",
    "             multiple='layer', \n",
    "            )\n",
    "\n",
    "plt.title('Distribution of Customer Education Levels by Term Deposit Status')\n",
    "plt.show()"
   ]
  },
  {
   "cell_type": "markdown",
   "id": "2b6f32d2-afcb-4a51-93fa-8cda8f10790e",
   "metadata": {},
   "source": [
    "**Summary:** This bar plot shows the distribution of customer education levels categorized by whether they subscribed to a term deposit or not. The grey shades represent subscirbed customers in each education level. Customers with tertiary education seem more likely to subscribe than those with primary education, although secondary education has the highest number of customers overall."
   ]
  },
  {
   "cell_type": "markdown",
   "id": "fd88215a-aac4-4ce7-8c8d-271615e18333",
   "metadata": {},
   "source": [
    "#### 3.7 Correlation Matrix of Numerical Variables"
   ]
  },
  {
   "cell_type": "code",
   "execution_count": 57,
   "id": "1ef85291-bc7f-4eec-9c74-3baf30c32c6c",
   "metadata": {},
   "outputs": [],
   "source": [
    "# Convert target y to binary \n",
    "bank['term deposit'] = np.where(bank['term deposit'] == 'yes', 1, 0)"
   ]
  },
  {
   "cell_type": "code",
   "execution_count": 59,
   "id": "2b57bea9-3933-4b87-a857-ab3274896150",
   "metadata": {},
   "outputs": [
    {
     "data": {
      "image/png": "[encoded data removed]",
      "text/plain": [
       "<Figure size 800x600 with 2 Axes>"
      ]
     },
     "metadata": {},
     "output_type": "display_data"
    }
   ],
   "source": [
    "plt.figure(figsize=(8,6))\n",
    "sns.heatmap(data=bank.corr(numeric_only=True), \n",
    "            annot=True, \n",
    "            fmt='.3f', \n",
    "            cmap='coolwarm')\n",
    "\n",
    "plt.title('Correlation Matrix of Numerical Variables')\n",
    "plt.show()"
   ]
  },
  {
   "cell_type": "code",
   "execution_count": 61,
   "id": "bba3d438-b58f-4463-80c5-4859cdbe2e66",
   "metadata": {},
   "outputs": [
    {
     "name": "stdout",
     "output_type": "stream",
     "text": [
      "Top 4 strongest Correaltion with Target: \n",
      "\n",
      " term deposit    1.000000\n",
      "duration        0.394521\n",
      "pdays           0.103621\n",
      "previous        0.093236\n",
      "campaign        0.073172\n",
      "Name: term deposit, dtype: float64\n"
     ]
    }
   ],
   "source": [
    "# Get the top 4 strong correaltion with target\n",
    "corr_matrix=bank.corr(numeric_only=True).abs()\n",
    "top_4_corr=corr_matrix['term deposit'].nlargest(5)\n",
    "print('Top 4 strongest Correaltion with Target: \\n\\n', top_4_corr)"
   ]
  },
  {
   "cell_type": "markdown",
   "id": "80214ddf-8bab-4ea4-9814-6334f6129af0",
   "metadata": {},
   "source": [
    "**Summary:** The duration of last contact has a moderative positive correlation with the term deposit, suggesting that longer durations may lead a higher chance of subscribing term deposit. "
   ]
  },
  {
   "cell_type": "markdown",
   "id": "9da29681-23ea-4341-a3c5-61965c222463",
   "metadata": {},
   "source": [
    "#### 3.8 Distribution of Duration"
   ]
  },
  {
   "cell_type": "code",
   "execution_count": 65,
   "id": "18de33c8-7b9d-4d41-aafc-6910486b359a",
   "metadata": {},
   "outputs": [
    {
     "data": {
      "image/png": "[encoded data removed]",
      "text/plain": [
       "<Figure size 800x600 with 1 Axes>"
      ]
     },
     "metadata": {},
     "output_type": "display_data"
    }
   ],
   "source": [
    "plt.figure(figsize=(8, 6))\n",
    "sns.histplot(data=bank, \n",
    "             x='duration', \n",
    "             hue='term deposit')\n",
    "\n",
    "plt.title('Distribution of duration')\n",
    "plt.show()"
   ]
  },
  {
   "cell_type": "markdown",
   "id": "a78b0da6-ab05-4b8c-b35b-2864f747ae1b",
   "metadata": {},
   "source": [
    "**Summary:** The distribution of the duration variable is highly skewed to the right. Most of the values are concentrated on the left side of the plot (low duration), with very few observations having high duration. For both categories, the distribution is similar in shape. However, customer who subscribed term deposit is generally spending more time on the call compared to who didn't subscribe. "
   ]
  },
  {
   "cell_type": "markdown",
   "id": "73552438-090c-4a81-8473-4d483da78dd7",
   "metadata": {},
   "source": [
    "### Model Training and Evaluation "
   ]
  },
  {
   "cell_type": "markdown",
   "id": "0cc64746-f365-4379-b679-bf3bdf64287a",
   "metadata": {},
   "source": [
    "#### 1. Prepare Data "
   ]
  },
  {
   "cell_type": "code",
   "execution_count": 70,
   "id": "e7545d15-8717-423e-b270-1e34a86cc4f9",
   "metadata": {},
   "outputs": [
    {
     "data": {
      "text/plain": [
       "Index(['age', 'job', 'marital', 'education', 'default', 'balance', 'housing',\n",
       "       'loan', 'contact', 'day', 'month', 'duration', 'campaign', 'pdays',\n",
       "       'previous', 'poutcome', 'term deposit'],\n",
       "      dtype='object')"
      ]
     },
     "execution_count": 70,
     "metadata": {},
     "output_type": "execute_result"
    }
   ],
   "source": [
    "bank.columns"
   ]
  },
  {
   "cell_type": "code",
   "execution_count": 72,
   "id": "56fa306d-3d52-4912-a541-0073ff79996a",
   "metadata": {},
   "outputs": [],
   "source": [
    "# Drop redudant cols\n",
    "cols_to_drop = ['contact', 'day', 'month', 'duration']\n",
    "\n",
    "bank = bank.drop(columns= cols_to_drop)"
   ]
  },
  {
   "cell_type": "markdown",
   "id": "b7e0b6de-5e51-4da6-b703-c70874641607",
   "metadata": {},
   "source": [
    "**Feature Selection:**\n",
    "\n",
    "- 'contact': It's the communication method, not relevant to predict y\n",
    "- 'day': Last contact day of the month, not relevant\n",
    "- 'month': Same attribute as 'day' does, not relevant\n",
    "- 'duration': From datasource, this attribute highly affects the output target, since the duration is not known before a call is performed. Also, after the end of the call y is obviously known. Thus, since the purpose is to have a realistic predictive model, have to discard it."
   ]
  },
  {
   "cell_type": "markdown",
   "id": "71ae9651-cb56-4b3d-91d0-74aec8ab0310",
   "metadata": {},
   "source": [
    "#### 2. Handle imbalanced dataset"
   ]
  },
  {
   "cell_type": "code",
   "execution_count": 76,
   "id": "e408c4b8-3851-414c-8ebe-1d4814a68022",
   "metadata": {},
   "outputs": [],
   "source": [
    "# Imports\n",
    "from sklearn.model_selection import train_test_split\n",
    "\n",
    "# Filter unsub customers by term deposit = 0\n",
    "unsubscribed_customers = bank[bank['term deposit'] == 0]\n",
    "\n",
    "# Split the data with crucial feature 'marital'\n",
    "X_train, X_test = train_test_split(unsubscribed_customers, \n",
    "                                   test_size=0.6, \n",
    "                                   stratify=unsubscribed_customers['job'], \n",
    "                                   random_state=42)\n"
   ]
  },
  {
   "cell_type": "code",
   "execution_count": 78,
   "id": "87d66f46-2d30-4ed8-8727-01705c43c283",
   "metadata": {},
   "outputs": [
    {
     "data": {
      "text/plain": [
       "age             0\n",
       "job             0\n",
       "marital         0\n",
       "education       0\n",
       "default         0\n",
       "balance         0\n",
       "housing         0\n",
       "loan            0\n",
       "campaign        0\n",
       "pdays           0\n",
       "previous        0\n",
       "poutcome        0\n",
       "term deposit    0\n",
       "dtype: int64"
      ]
     },
     "execution_count": 78,
     "metadata": {},
     "output_type": "execute_result"
    }
   ],
   "source": [
    "X_train.isna().sum()"
   ]
  },
  {
   "cell_type": "code",
   "execution_count": 225,
   "id": "20e31bf7-f144-4903-9705-7b0121709581",
   "metadata": {},
   "outputs": [
    {
     "name": "stdout",
     "output_type": "stream",
     "text": [
      "               Original   X_train\n",
      "job                              \n",
      "admin.         0.114375  0.113727\n",
      "blue-collar    0.215257  0.226015\n",
      "entrepreneur   0.032890  0.034131\n",
      "housemaid      0.027427  0.028307\n",
      "management     0.209197  0.204346\n",
      "retired        0.050076  0.043775\n",
      "self-employed  0.034925  0.034882\n",
      "services       0.091880  0.094815\n",
      "student        0.020747  0.016784\n",
      "technician     0.168034  0.169276\n",
      "unemployed     0.028820  0.027555\n",
      "unknown        0.006370  0.006388\n"
     ]
    },
    {
     "data": {
      "image/png": "[encoded data removed]",
      "text/plain": [
       "<Figure size 640x480 with 1 Axes>"
      ]
     },
     "metadata": {},
     "output_type": "display_data"
    }
   ],
   "source": [
    "# Check if the distribution of the job feature in X_train matches the original DataFrame bank\n",
    "\n",
    "# Calculate the distribution of 'job' in the original df\n",
    "original_distribution = bank['job'].value_counts(normalize=True)\n",
    "\n",
    "# Calculate the distribution of 'job' in X_train\n",
    "train_distribution = X_train['job'].value_counts(normalize=True)\n",
    "\n",
    "# Combine both distributions into a single df for comparison\n",
    "comparison_df = pd.DataFrame({'Original': original_distribution,\n",
    "                              'X_train': train_distribution}).sort_index()\n",
    "\n",
    "# Display the comparison df\n",
    "print(comparison_df)\n",
    "\n",
    "# Visualize the distribution\n",
    "comparison_df.plot(kind='bar', title='Job Distribution: Original vs X_train')\n",
    "plt.show()"
   ]
  },
  {
   "cell_type": "markdown",
   "id": "647958f7-ca5f-4a0c-8e32-45c028b61117",
   "metadata": {},
   "source": [
    "**Summary:** From comparison dataframe and distribution bar plot, the proportions in X_train are quite close to those in the original dataset, which suggests that train set is reasonably representative of the original data in terms of job distribution."
   ]
  },
  {
   "cell_type": "code",
   "execution_count": 83,
   "id": "df0697df-2f18-4832-85ac-f2cc6088a48e",
   "metadata": {},
   "outputs": [],
   "source": [
    "# Filter out sub customers by term deposit = 1\n",
    "subscribed_customers = bank[bank['term deposit'] == 1]\n",
    "\n",
    "# Combine two df \n",
    "new_bank = pd.concat([subscribed_customers, X_train], axis=0)\n",
    "\n",
    "# Reset df index\n",
    "new_bank = new_bank.reset_index(drop=True)"
   ]
  },
  {
   "cell_type": "code",
   "execution_count": 85,
   "id": "751afc7a-ba7a-4e54-ab3a-a636c6563f2e",
   "metadata": {},
   "outputs": [
    {
     "name": "stdout",
     "output_type": "stream",
     "text": [
      "New DataFrame Distribution: \n",
      "\n",
      " term deposit\n",
      "0    15968\n",
      "1     5289\n",
      "Name: count, dtype: int64\n",
      "\n",
      "\n",
      "Original DataFrame Distribution: \n",
      "\n",
      " term deposit\n",
      "0    39922\n",
      "1     5289\n",
      "Name: count, dtype: int64\n"
     ]
    }
   ],
   "source": [
    "# Compared new and original distribution of dataset \n",
    "print('New DataFrame Distribution: \\n\\n', new_bank['term deposit'].value_counts())\n",
    "print('\\n')\n",
    "print('Original DataFrame Distribution: \\n\\n', bank['term deposit'].value_counts())"
   ]
  },
  {
   "cell_type": "code",
   "execution_count": 87,
   "id": "54bdc7ad-9e1d-4566-aef8-bcb5e4e2fb53",
   "metadata": {},
   "outputs": [
    {
     "data": {
      "text/plain": [
       "age             0\n",
       "job             0\n",
       "marital         0\n",
       "education       0\n",
       "default         0\n",
       "balance         0\n",
       "housing         0\n",
       "loan            0\n",
       "campaign        0\n",
       "pdays           0\n",
       "previous        0\n",
       "poutcome        0\n",
       "term deposit    0\n",
       "dtype: int64"
      ]
     },
     "execution_count": 87,
     "metadata": {},
     "output_type": "execute_result"
    }
   ],
   "source": [
    "# Check the sum of null in new df\n",
    "new_bank.isna().sum()"
   ]
  },
  {
   "cell_type": "markdown",
   "id": "96663fa7-2fa5-4034-b50f-f95495119af6",
   "metadata": {},
   "source": [
    "**Summary:** Given the highly imbalanced dataset, ensuring the stratified distribution of a categorical feature like 'marital' is important for maintaining representativeness in both the training and testing sets. This approach helped adjust the distribution, with unsubscribed customers making up 25% of the dataset."
   ]
  },
  {
   "cell_type": "markdown",
   "id": "6a8fe92b-b8f0-4cc5-92fd-1e71b22fdc5f",
   "metadata": {},
   "source": [
    "#### 3. OneHotEncoder on Categorical Columns"
   ]
  },
  {
   "cell_type": "code",
   "execution_count": 91,
   "id": "86aac9b2-fb3f-4dcc-b64f-c9105c9430bb",
   "metadata": {},
   "outputs": [],
   "source": [
    "# Imports\n",
    "from sklearn.preprocessing import OneHotEncoder"
   ]
  },
  {
   "cell_type": "code",
   "execution_count": 93,
   "id": "0f9e5cd1-c2d7-495a-a543-61b252695caa",
   "metadata": {},
   "outputs": [],
   "source": [
    "# Encode categorical columns\n",
    "cols_to_enco = ['job', 'marital', \n",
    "                'education', 'default',\n",
    "                'housing', 'loan', \n",
    "                'poutcome']\n",
    "\n",
    "enco = OneHotEncoder(drop='if_binary',sparse_output=False)\n",
    "\n",
    "# Fit and transform the data\n",
    "enco_cols = enco.fit_transform(new_bank[cols_to_enco])\n",
    "\n",
    "# Create a DataFrame with the encoded columns\n",
    "encoded_df = pd.DataFrame(enco_cols, columns=enco.get_feature_names_out(cols_to_enco))\n",
    "\n",
    "# Combine the original DataFrame (excluding the columns that were encoded) with the new encoded DataFrame\n",
    "bank_final = pd.concat([new_bank.drop(columns=cols_to_enco), encoded_df], axis=1)"
   ]
  },
  {
   "cell_type": "code",
   "execution_count": 95,
   "id": "1be04ce0-6af1-4d36-8d58-a3e9532d7d8b",
   "metadata": {},
   "outputs": [
    {
     "data": {
      "text/plain": [
       "Index(['age', 'balance', 'campaign', 'pdays', 'previous', 'term deposit',\n",
       "       'job_admin.', 'job_blue-collar', 'job_entrepreneur', 'job_housemaid',\n",
       "       'job_management', 'job_retired', 'job_self-employed', 'job_services',\n",
       "       'job_student', 'job_technician', 'job_unemployed', 'job_unknown',\n",
       "       'marital_divorced', 'marital_married', 'marital_single',\n",
       "       'education_primary', 'education_secondary', 'education_tertiary',\n",
       "       'education_unknown', 'default_yes', 'housing_yes', 'loan_yes',\n",
       "       'poutcome_failure', 'poutcome_other', 'poutcome_success',\n",
       "       'poutcome_unknown'],\n",
       "      dtype='object')"
      ]
     },
     "execution_count": 95,
     "metadata": {},
     "output_type": "execute_result"
    }
   ],
   "source": [
    "# Check the name of columns \n",
    "bank_final.columns"
   ]
  },
  {
   "cell_type": "markdown",
   "id": "cc5a61d6-c0ed-49bf-8ba6-12c68adbb584",
   "metadata": {},
   "source": [
    "#### 4. Reduce outliers by DBSCAN"
   ]
  },
  {
   "cell_type": "code",
   "execution_count": 98,
   "id": "20d3ec1d-828b-447c-92f7-e3c024e384a3",
   "metadata": {},
   "outputs": [],
   "source": [
    "# Imports\n",
    "from sklearn.cluster import DBSCAN\n",
    "from sklearn.model_selection import train_test_split\n",
    "from sklearn.preprocessing import StandardScaler\n",
    "from sklearn.pipeline import Pipeline"
   ]
  },
  {
   "cell_type": "code",
   "execution_count": 100,
   "id": "57e7f8b3-c7f1-4f1e-a448-9bff3ff71ce4",
   "metadata": {},
   "outputs": [],
   "source": [
    "# Separate X and y features\n",
    "X = bank_final.drop('term deposit', axis=1)\n",
    "y = bank_final['term deposit']\n",
    "\n",
    "# Train test Split \n",
    "X_train_outliers, X_test_outliers, y_train_outliers, y_test_outliers = train_test_split(X, y, test_size=0.2, random_state=42)"
   ]
  },
  {
   "cell_type": "markdown",
   "id": "e3aa454a-3e44-4be7-afef-86bdd7f51dd2",
   "metadata": {},
   "source": [
    "#### 4.1 Find the optimal Eps value"
   ]
  },
  {
   "cell_type": "code",
   "execution_count": 102,
   "id": "6b2fbe71-a0d5-4db6-9d1f-63807b1a1533",
   "metadata": {},
   "outputs": [],
   "source": [
    "# Initialize an instance\n",
    "scaler = StandardScaler()\n",
    "\n",
    "X_train_scaled = scaler.fit_transform(X_train_outliers)\n",
    "X_test_scaled = scaler.transform(X_test_outliers)\n",
    "\n",
    "# Create a list to store outliers\n",
    "outliers = []\n",
    "percentage_outliers = []\n",
    "\n",
    "# Loop for eps values\n",
    "for eps in np.linspace(0.001,3,50):\n",
    "    \n",
    "    # Create and fit the model\n",
    "    model = DBSCAN(eps=eps, min_samples=12)\n",
    "    model.fit(X_train_scaled)\n",
    "    \n",
    "    # Get Cluster labels for each point\n",
    "    labels = model.labels_\n",
    "\n",
    "    # Count outliers\n",
    "    num_outliers = np.sum(labels == -1)\n",
    "    # Store in the list\n",
    "    outliers.append(num_outliers)\n",
    "    # Calculate outlier percentage\n",
    "    outlier_percent = (num_outliers / len(labels))* 100\n",
    "    # Store in the list\n",
    "    percentage_outliers.append(outlier_percent)"
   ]
  },
  {
   "cell_type": "code",
   "execution_count": 104,
   "id": "2f503c30-1894-488c-8de5-c51ece0a06b0",
   "metadata": {},
   "outputs": [
    {
     "data": {
      "image/png": "[encoded data removed]",
      "text/plain": [
       "<Figure size 640x480 with 1 Axes>"
      ]
     },
     "metadata": {},
     "output_type": "display_data"
    }
   ],
   "source": [
    "# Outlier points vs. eps value lineplot\n",
    "sns.lineplot(x=np.linspace(0.001,3,50), y=percentage_outliers, marker='o', c='r')\n",
    "plt.xlabel('Epsilon values')\n",
    "plt.ylabel('The percentage of Outliers')\n",
    "plt.grid(True)\n",
    "plt.show()"
   ]
  },
  {
   "cell_type": "markdown",
   "id": "5eb1c675-7ae8-461c-a67a-b85980a6f309",
   "metadata": {},
   "source": [
    "#### 4.2 Create new df with only Training sets(No outliers)"
   ]
  },
  {
   "cell_type": "code",
   "execution_count": 109,
   "id": "35705b0e-8b32-4e0f-a660-bca7231c62de",
   "metadata": {},
   "outputs": [],
   "source": [
    "db = DBSCAN(eps=2, min_samples=12)   # eps=2 optimal selection\n",
    "db.fit(X_train_scaled)\n",
    "\n",
    "no_outliers = labels != -1\n",
    "\n",
    "# Filter out outliers (noise points labeled as -1)\n",
    "X_train_clean = X_train_scaled[no_outliers]\n",
    "\n",
    "y_train_clean = y_train_outliers[no_outliers]\n",
    "\n",
    "\n",
    "# Create a new df\n",
    "bank_train_clean = pd.DataFrame(X_train_clean, columns=X.columns)\n",
    "bank_train_clean['term deposit'] = y_train_clean.values"
   ]
  },
  {
   "cell_type": "markdown",
   "id": "49ad54d1-4bc8-4eb6-b58a-b21aadd3e401",
   "metadata": {},
   "source": [
    "#### 5. First Model - Logistic Regression "
   ]
  },
  {
   "cell_type": "markdown",
   "id": "3895ba93-b4e9-46da-80f5-ba70073d3820",
   "metadata": {},
   "source": [
    "**5.1 LogisticRegression Model (No outliers)**"
   ]
  },
  {
   "cell_type": "code",
   "execution_count": 113,
   "id": "29d71da2-1111-4983-956a-e89d9cae2de4",
   "metadata": {},
   "outputs": [],
   "source": [
    "# Imports\n",
    "from sklearn.linear_model import LogisticRegression\n",
    "from sklearn.model_selection import GridSearchCV\n",
    "from sklearn.metrics import confusion_matrix, classification_report, ConfusionMatrixDisplay, RocCurveDisplay, PrecisionRecallDisplay"
   ]
  },
  {
   "cell_type": "code",
   "execution_count": 115,
   "id": "ec750d83-07c6-4933-a01d-3839a0f00426",
   "metadata": {},
   "outputs": [
    {
     "name": "stdout",
     "output_type": "stream",
     "text": [
      "Result without Outliers \n",
      "\n",
      "Best Parameters: {'C': 0.1, 'max_iter': 1000, 'solver': 'saga'}\n",
      "\n",
      "\n",
      "Confusion Matrix:\n",
      "[[3123   83]\n",
      " [ 795  251]]\n",
      "\n",
      "\n",
      "Classification Report:\n",
      "              precision    recall  f1-score   support\n",
      "\n",
      "           0       0.80      0.97      0.88      3206\n",
      "           1       0.75      0.24      0.36      1046\n",
      "\n",
      "    accuracy                           0.79      4252\n",
      "   macro avg       0.77      0.61      0.62      4252\n",
      "weighted avg       0.79      0.79      0.75      4252\n",
      "\n"
     ]
    }
   ],
   "source": [
    "lg = LogisticRegression()\n",
    "\n",
    "param_grid = {'C': [0.01, 0.1, 1, 10, 100], \n",
    "              'solver': ['liblinear', 'lbfgs', 'saga'],\n",
    "              'max_iter':[1000, 1500]}\n",
    "\n",
    "# Grid Search\n",
    "grid_search = GridSearchCV(lg, param_grid, cv=5)  \n",
    "# Fit the model\n",
    "grid_search.fit(X_train_clean, y_train_clean)\n",
    "\n",
    "\n",
    "y_pred = grid_search.predict(X_test_scaled)\n",
    "\n",
    "print('Result without Outliers \\n')\n",
    "# Best Parameters \n",
    "print(f'Best Parameters: {grid_search.best_params_}')\n",
    "print('\\n')\n",
    "# Confusion Matrix\n",
    "print('Confusion Matrix:')\n",
    "print(confusion_matrix(y_test_outliers, y_pred))\n",
    "print('\\n')\n",
    "\n",
    "# Classification report\n",
    "print('Classification Report:')\n",
    "print(classification_report(y_test_outliers, y_pred))  "
   ]
  },
  {
   "cell_type": "markdown",
   "id": "b2ca2234-488a-425f-822c-c8b64506331f",
   "metadata": {},
   "source": [
    "**Interpretation:**\n",
    "+ False Positive (795):  subscribers are incorrectly predicted as non-subscribers.\n",
    "+ Class 0 (Non Subscribers):\n",
    "    + Precision(0.8):  out of all instances predicted as class 0, 80% are actual class 0\n",
    "    + Recall(0.97):  out of all actual class 0 instances, 97% were correctly predicted.\n",
    "    + F1-score(0.88):  The harmonic mean of precision and recall for class 0.\n",
    "+ Class 1 (Subscribers):\n",
    "    + Precision(0.75):  out of all instances predicted as class 0, 75% are actual class 0\n",
    "    + Recall(0.24):  out of all actual class 0 instances, 24% were correctly predicted.\n",
    "    + F1-score(0.36):  The harmonic mean of precision and recall for class 0.\n",
    "+ Overall Metrics:\n",
    "    +  Accuracy(0.79):  The proportion of correctly classified instances out of the total."
   ]
  },
  {
   "cell_type": "code",
   "execution_count": 117,
   "id": "a8f2d36f-cc03-4d28-b4fb-cbe6eac91a41",
   "metadata": {},
   "outputs": [
    {
     "data": {
      "image/png": "[encoded data removed]",
      "text/plain": [
       "<Figure size 640x480 with 1 Axes>"
      ]
     },
     "metadata": {},
     "output_type": "display_data"
    }
   ],
   "source": [
    "# Precision-recall curve\n",
    "PrecisionRecallDisplay.from_estimator(estimator=grid_search, X= X_test_scaled, y=y_test_outliers)\n",
    "plt.show()"
   ]
  },
  {
   "cell_type": "markdown",
   "id": "a7a786ad-05ab-4908-b523-2143a7df48ed",
   "metadata": {},
   "source": [
    "+ From the PR curve, it's easily noticed that the high recall rate comes with a low precision rate. If focusing on maximizing recall, the model will catch all the true positives but also more false positives. Conversely, if focusing on precision, the model might miss true positives, leading a low recall."
   ]
  },
  {
   "cell_type": "code",
   "execution_count": 120,
   "id": "667f3661-bef5-4508-8eef-ab0a9e260afd",
   "metadata": {},
   "outputs": [
    {
     "data": {
      "image/png": "[encoded data removed]",
      "text/plain": [
       "<Figure size 640x480 with 1 Axes>"
      ]
     },
     "metadata": {},
     "output_type": "display_data"
    }
   ],
   "source": [
    "# ROC Curve\n",
    "RocCurveDisplay.from_estimator(estimator=grid_search, X=X_test_scaled, y=y_test_outliers)\n",
    "plt.show()"
   ]
  },
  {
   "cell_type": "markdown",
   "id": "e0e99d42-71f9-472c-ac55-f6f22d30241d",
   "metadata": {},
   "source": [
    "+ The model is more likely to predict positive, which naturally increases the FP rate as well, more negative instances get wrongly classified as postive. With AUC=0.73, it reflects that while model has a decent ability to differentiate between classes, it will still generate some false positives as it captures more ture positives."
   ]
  },
  {
   "cell_type": "markdown",
   "id": "2f491620-6820-45c7-8589-cdcf31e572ca",
   "metadata": {},
   "source": [
    "**5.2 LogisticRegression Model (with outliers)**"
   ]
  },
  {
   "cell_type": "code",
   "execution_count": 124,
   "id": "a1690375-a259-4636-9e44-18975ab86489",
   "metadata": {},
   "outputs": [
    {
     "name": "stdout",
     "output_type": "stream",
     "text": [
      "Result with Outliers \n",
      "\n",
      "Best Parameters: {'C': 0.1, 'max_iter': 1000, 'solver': 'saga'}\n",
      "\n",
      "\n",
      "Confusion Matrix:\n",
      "[[3144   62]\n",
      " [ 812  234]]\n",
      "\n",
      "\n",
      "Classification Report:\n",
      "              precision    recall  f1-score   support\n",
      "\n",
      "           0       0.79      0.98      0.88      3206\n",
      "           1       0.79      0.22      0.35      1046\n",
      "\n",
      "    accuracy                           0.79      4252\n",
      "   macro avg       0.79      0.60      0.61      4252\n",
      "weighted avg       0.79      0.79      0.75      4252\n",
      "\n"
     ]
    }
   ],
   "source": [
    "# Set up pipeline \n",
    "pipe = Pipeline(steps=[('scaler', StandardScaler()),\n",
    "                       ('lg', LogisticRegression())])\n",
    "\n",
    "param_grid = {'lg__C': [0.01, 0.1, 1, 10, 100],\n",
    "              'lg__solver': ['liblinear', 'lbfgs', 'saga'],\n",
    "              'lg__max_iter':[500, 1000]}\n",
    "\n",
    "\n",
    "# Grid Search\n",
    "grid = GridSearchCV(pipe, param_grid, cv=5, scoring='accuracy')\n",
    "\n",
    "# Fit the model\n",
    "grid.fit(X_train_outliers, y_train_outliers)\n",
    "\n",
    "y_pred_outliers = grid.predict(X_test_outliers)\n",
    "\n",
    "print('Result with Outliers \\n')\n",
    "## Best Parameters \n",
    "print(f'Best Parameters: {grid_search.best_params_}')\n",
    "print('\\n')\n",
    "\n",
    "# Confusion Matrix\n",
    "print('Confusion Matrix:')\n",
    "print(confusion_matrix(y_test_outliers, y_pred_outliers))\n",
    "print('\\n')\n",
    "\n",
    "# Classification report\n",
    "print('Classification Report:')\n",
    "print(classification_report(y_test_outliers, y_pred_outliers))  "
   ]
  },
  {
   "cell_type": "markdown",
   "id": "d4f603e7-f263-4086-89ab-db32d193c0a7",
   "metadata": {},
   "source": [
    "**Interpretation:**\n",
    "+ False Positive (812): subscribers are incorrectly predicted as non-subscribers.\n",
    "+ Class 0 (Non Subscribers):\n",
    "    + Precision(0.79): out of all instances predicted as class 0, 79% are actual class 0\n",
    "    + Recall(0.98): out of all actual class 0 instances, 98% were correctly predicted.\n",
    "    + F1-score(0.88): The harmonic mean of precision and recall for class 0.\n",
    "+ Class 1 (Subscribers):\n",
    "    + Precision(0.79): out of all instances predicted as class 0, 79% are actual class 0\n",
    "    + Recall(0.22):  out of all actual class 0 instances, 22% were correctly predicted.\n",
    "    + F1-score(0.35):  The harmonic mean of precision and recall for class 0.\n",
    "+ Overall Metrics:\n",
    "    +  Accuracy(0.79):  The Model correctly classified 79% instances out of the total."
   ]
  },
  {
   "cell_type": "markdown",
   "id": "bd3d8b36-a41d-4bd9-b53e-d621a2ca987e",
   "metadata": {},
   "source": [
    "**Results of Logistic Regression model with and without outliers:**\n",
    "\n",
    "+ The accuracy remains the same (0.79) with and without outliers, indicating that outliers do not significantly impact the overall accuracy of your model.\n",
    "+ The precision and recall rate for Class 0 are very high and similar in both cases.\n",
    "+ Class 1 Performance:\n",
    "    + Recall: The recall for class 1 (people who will subscribe) is low in both cases but slightly higher without outliers (0.24) compared to with outliers (0.22).\n",
    "    + The precision for class 1 is slightly lower without outliers (0.75) compared to with outliers (0.79).\n",
    " \n",
    "Therefore, we will still continue with new dataframe has no outliers."
   ]
  },
  {
   "cell_type": "markdown",
   "id": "1b0bdf25-9705-4a47-96f3-0d24805b8b05",
   "metadata": {},
   "source": [
    "**5.3 Metrics results by Original imbalanced Dataframe**"
   ]
  },
  {
   "cell_type": "code",
   "execution_count": 129,
   "id": "9b6a8c3b-fc94-4b22-9819-cc7c08a838f3",
   "metadata": {},
   "outputs": [],
   "source": [
    "#  Results with original dataframe (with outliers)\n",
    "\n",
    "# Confusion Matrix:\n",
    "# [[7870   82]\n",
    "#  [ 902  189]]\n",
    "\n",
    "\n",
    "# Classification Report:\n",
    "#               precision    recall  f1-score   support\n",
    "\n",
    "#            0       0.90      0.99      0.94      7952\n",
    "#            1       0.70      0.17      0.28      1091\n",
    "\n",
    "#     accuracy                           0.89      9043\n",
    "#    macro avg       0.80      0.58      0.61      9043\n",
    "# weighted avg       0.87      0.89      0.86      9043"
   ]
  },
  {
   "cell_type": "markdown",
   "id": "d2b0ad93-0104-4e69-a5bd-419b7ce30727",
   "metadata": {},
   "source": [
    "+ The model is heavily influenced by the majority class 0, although it's leading an accuracy score 0.89, it perform poorly in identifying the minority class(class 1), with precision rate 0.70, and recall rate of 0.17."
   ]
  },
  {
   "cell_type": "markdown",
   "id": "ab801dcd-6ae5-4557-8ad4-2341a6942e9b",
   "metadata": {},
   "source": [
    "#### 6. Second Model - SVM"
   ]
  },
  {
   "cell_type": "code",
   "execution_count": 133,
   "id": "4ced5c16-682a-4472-b3c8-72e676e3d008",
   "metadata": {},
   "outputs": [],
   "source": [
    "# Imports\n",
    "from sklearn.svm import SVC"
   ]
  },
  {
   "cell_type": "code",
   "execution_count": 135,
   "id": "e0b8acbf-ea78-448d-a500-f2cf40d56a91",
   "metadata": {},
   "outputs": [
    {
     "name": "stdout",
     "output_type": "stream",
     "text": [
      "Best Parameters: {'C': 0.001, 'gamma': 1, 'kernel': 'linear'}\n",
      "\n",
      "\n",
      "Confusion Matrix:\n",
      "[[3166   40]\n",
      " [ 849  197]]\n",
      "\n",
      "\n",
      "Classification Report:\n",
      "              precision    recall  f1-score   support\n",
      "\n",
      "           0       0.79      0.99      0.88      3206\n",
      "           1       0.83      0.19      0.31      1046\n",
      "\n",
      "    accuracy                           0.79      4252\n",
      "   macro avg       0.81      0.59      0.59      4252\n",
      "weighted avg       0.80      0.79      0.74      4252\n",
      "\n"
     ]
    }
   ],
   "source": [
    "# Instance of model\n",
    "model = SVC()\n",
    "\n",
    "# Gridsearch\n",
    "param_grid = {'C':[.001, .01, .1],\n",
    "              'kernel':['linear','rbf'], \n",
    "              'gamma':[1, .1, .01, .001]}\n",
    "\n",
    "grid_svm = GridSearchCV(estimator=model, param_grid=param_grid)\n",
    "\n",
    "# Fit model\n",
    "grid_svm.fit(X_train_clean, y_train_clean)\n",
    "\n",
    "y_pred_svm = grid_svm.predict(X_test_scaled)\n",
    " \n",
    "## Best Parameters \n",
    "print(f'Best Parameters: {grid_svm.best_params_}')\n",
    "print('\\n')\n",
    "\n",
    "# Confusion Matrix\n",
    "print('Confusion Matrix:')\n",
    "print(confusion_matrix(y_test_outliers, y_pred_svm))\n",
    "print('\\n')\n",
    "\n",
    "# Classification report\n",
    "print('Classification Report:')\n",
    "print(classification_report(y_test_outliers, y_pred_svm))  "
   ]
  },
  {
   "cell_type": "markdown",
   "id": "1a6980db-4151-49c6-906c-2d765b309bd6",
   "metadata": {},
   "source": [
    "**Interpretation:**\n",
    "+ False Positive (849): subscribers are incorrectly predicted as non-subscribers.\n",
    "+ Class 0 (Non Subscribers):\n",
    "    + Precision(0.79): out of all instances predicted as class 0, 79% are actual class 0\n",
    "    + Recall(0.99): out of all actual class 0 instances, 99% were correctly predicted.\n",
    "    + F1-score(0.88): The harmonic mean of precision and recall for class 0.\n",
    "+ Class 1 (Subscribers):\n",
    "    + Precision(0.83): out of all instances predicted as class 0, 83% are actual class 0\n",
    "    + Recall(0.19):  out of all actual class 0 instances, 19% were correctly predicted.\n",
    "    + F1-score(0.31):  The harmonic mean of precision and recall for class 0.\n",
    "+ Overall Metrics:\n",
    "    +  Accuracy(0.79):  The Model correctly classified 79% instances out of the total."
   ]
  },
  {
   "cell_type": "markdown",
   "id": "f76576b9-8b49-4b87-becb-0d277d5df4d8",
   "metadata": {},
   "source": [
    "#### 7. Third Model - Random Forest"
   ]
  },
  {
   "cell_type": "code",
   "execution_count": 139,
   "id": "ff1692c3-92b3-4e2b-a1f6-c9bd7ac77a8f",
   "metadata": {},
   "outputs": [],
   "source": [
    "# Imports \n",
    "from sklearn.ensemble import RandomForestClassifier"
   ]
  },
  {
   "cell_type": "code",
   "execution_count": 141,
   "id": "27145df2-0dd1-408b-ab52-1b2b8c7c5d4c",
   "metadata": {},
   "outputs": [
    {
     "name": "stdout",
     "output_type": "stream",
     "text": [
      "Confusion Matrix:\n",
      "[[2935  271]\n",
      " [ 647  399]]\n",
      "\n",
      "\n",
      "Classification Report:\n",
      "              precision    recall  f1-score   support\n",
      "\n",
      "           0       0.82      0.92      0.86      3206\n",
      "           1       0.60      0.38      0.47      1046\n",
      "\n",
      "    accuracy                           0.78      4252\n",
      "   macro avg       0.71      0.65      0.66      4252\n",
      "weighted avg       0.76      0.78      0.77      4252\n",
      "\n"
     ]
    }
   ],
   "source": [
    "# Create instance of model with default values\n",
    "rfc = RandomForestClassifier(random_state=42)\n",
    "\n",
    "# Fit model\n",
    "rfc.fit(X_train_clean, y_train_clean)\n",
    "\n",
    "y_pred_rfc = rfc.predict(X_test_scaled)\n",
    "\n",
    "# Confusion Matrix\n",
    "print('Confusion Matrix:')\n",
    "print(confusion_matrix(y_test_outliers, y_pred_rfc))\n",
    "print('\\n')\n",
    "\n",
    "# Classification report\n",
    "print('Classification Report:')\n",
    "print(classification_report(y_test_outliers, y_pred_rfc)) "
   ]
  },
  {
   "cell_type": "markdown",
   "id": "5a60b0b3-2b97-43d7-822e-d613f76b63e2",
   "metadata": {},
   "source": [
    "#### 7.1 Hyperparameter Tuning with GridSearchCV"
   ]
  },
  {
   "cell_type": "code",
   "execution_count": 144,
   "id": "9decc282-48d4-4dc4-8f63-57d3aee5b941",
   "metadata": {},
   "outputs": [
    {
     "name": "stdout",
     "output_type": "stream",
     "text": [
      "Best Parameters: {'max_depth': 30, 'min_samples_leaf': 7, 'min_samples_split': 2, 'n_estimators': 2000}\n",
      "\n",
      "\n",
      "Confusion Matrix:\n",
      "[[2935  271]\n",
      " [ 647  399]]\n",
      "\n",
      "\n",
      "Classification Report:\n",
      "              precision    recall  f1-score   support\n",
      "\n",
      "           0       0.82      0.92      0.86      3206\n",
      "           1       0.60      0.38      0.47      1046\n",
      "\n",
      "    accuracy                           0.78      4252\n",
      "   macro avg       0.71      0.65      0.66      4252\n",
      "weighted avg       0.76      0.78      0.77      4252\n",
      "\n"
     ]
    }
   ],
   "source": [
    "param_grid = {\n",
    "    'n_estimators': [1000, 2000],\n",
    "    'max_depth': [30, 40, 50, None],\n",
    "    'min_samples_split': [2, 5, 10, 15],\n",
    "    'min_samples_leaf': [1, 4, 7]\n",
    "             }\n",
    "\n",
    "# Initialize GridSearchCV with Random Forest\n",
    "grid_rfc = GridSearchCV(estimator=rfc, param_grid=param_grid, cv=5, n_jobs=-1, scoring='accuracy')\n",
    "\n",
    "# Fit GridSearchCV\n",
    "grid_rfc.fit(X_train_clean, y_train_clean)\n",
    "\n",
    "# Best Parameters \n",
    "print(f'Best Parameters: {grid_rfc.best_params_}')\n",
    "print('\\n')\n",
    "\n",
    "# Confusion Matrix\n",
    "print('Confusion Matrix:')\n",
    "print(confusion_matrix(y_test_outliers, y_pred_rfc))\n",
    "print('\\n')\n",
    "\n",
    "# Classification report\n",
    "print('Classification Report:')\n",
    "print(classification_report(y_test_outliers, y_pred_rfc)) "
   ]
  },
  {
   "cell_type": "markdown",
   "id": "68d565c9-d46f-4051-8e0b-c6c4ce93503f",
   "metadata": {},
   "source": [
    "**Interpretation:**\n",
    "+ False Positive (647): subscribers are incorrectly predicted as non-subscribers.\n",
    "+ Class 0 (Non Subscribers):\n",
    "    + Precision(0.82): out of all instances predicted as class 0, 82% are actual class 0\n",
    "    + Recall(0.92): out of all actual class 0 instances, 92% were correctly predicted.\n",
    "    + F1-score(0.86): The harmonic mean of precision and recall for class 0.\n",
    "+ Class 1 (Subscribers):\n",
    "    + Precision(0.60): out of all instances predicted as class 0, 60% are actual class 0\n",
    "    + Recall(0.38):  out of all actual class 0 instances, 38% were correctly predicted.\n",
    "    + F1-score(0.47):  The harmonic mean of precision and recall for class 0.\n",
    "+ Overall Metrics:\n",
    "    +  Accuracy(0.78):  The Model correctly classified 78% instances out of the total."
   ]
  },
  {
   "cell_type": "markdown",
   "id": "1509ee6e-efb9-4f2f-963d-fa453785ab0e",
   "metadata": {},
   "source": [
    "#### 8. Model Selection "
   ]
  },
  {
   "cell_type": "markdown",
   "id": "ce13390a-0b9a-41a5-8649-c928c28a272a",
   "metadata": {},
   "source": [
    "**Logistic Regression:**\n",
    "- Accuracy: 0.79\n",
    "- Class 1 (Subscribers):\n",
    "  - Precision: 0.75\n",
    "  - Recall: 0.24\n",
    "\n",
    "**SVM:**\n",
    "- Accuracy: 0.79\n",
    "- Class 1 (Subscribers):\n",
    "    - Precision: 0.83\n",
    "    - Recall: 0.19\n",
    "\n",
    "**Random Forest:**\n",
    "- Accuracy: 0.78\n",
    "- Class 1 (Subscribers):\n",
    "  - Precision: 0.60\n",
    "  - Recall: 0.38"
   ]
  },
  {
   "cell_type": "markdown",
   "id": "46c6a9fa-a11e-43da-86d7-1100716e081c",
   "metadata": {},
   "source": [
    "- All three models have similar accuracy, indicating that they are equally effective in terms of overall correctness. The purpose of reducing Type 1 error (False Positives) in this classification model, high precision rate for class 1 is the target. SVM model stands out with the highest precision 0.83 for class 1, meaning it has the lowest Type 1 error. The final model will be SVM."
   ]
  },
  {
   "cell_type": "markdown",
   "id": "0c00e48e-f166-410f-bf36-54f0ad5a2163",
   "metadata": {},
   "source": [
    "### Final Model Fit and Prediction"
   ]
  },
  {
   "cell_type": "markdown",
   "id": "44ecddbb-291e-4b07-8864-c4c774b0b801",
   "metadata": {},
   "source": [
    "#### 1. Final Model Fit "
   ]
  },
  {
   "cell_type": "code",
   "execution_count": null,
   "id": "215fe0a7-b5d0-41b8-9515-0ac92e17320f",
   "metadata": {},
   "outputs": [],
   "source": [
    "# SVM \n",
    "# Best Parameters: {'C': 0.001, 'gamma': 1, 'kernel': 'linear'}"
   ]
  },
  {
   "cell_type": "code",
   "execution_count": 170,
   "id": "17ea2e5a-37fe-46a3-93ab-cd2d819dc6ad",
   "metadata": {},
   "outputs": [
    {
     "data": {
      "text/html": [
       "<style>#sk-container-id-2 {\n",
       "  /* Definition of color scheme common for light and dark mode */\n",
       "  --sklearn-color-text: black;\n",
       "  --sklearn-color-line: gray;\n",
       "  /* Definition of color scheme for unfitted estimators */\n",
       "  --sklearn-color-unfitted-level-0: #fff5e6;\n",
       "  --sklearn-color-unfitted-level-1: #f6e4d2;\n",
       "  --sklearn-color-unfitted-level-2: #ffe0b3;\n",
       "  --sklearn-color-unfitted-level-3: chocolate;\n",
       "  /* Definition of color scheme for fitted estimators */\n",
       "  --sklearn-color-fitted-level-0: #f0f8ff;\n",
       "  --sklearn-color-fitted-level-1: #d4ebff;\n",
       "  --sklearn-color-fitted-level-2: #b3dbfd;\n",
       "  --sklearn-color-fitted-level-3: cornflowerblue;\n",
       "\n",
       "  /* Specific color for light theme */\n",
       "  --sklearn-color-text-on-default-background: var(--sg-text-color, var(--theme-code-foreground, var(--jp-content-font-color1, black)));\n",
       "  --sklearn-color-background: var(--sg-background-color, var(--theme-background, var(--jp-layout-color0, white)));\n",
       "  --sklearn-color-border-box: var(--sg-text-color, var(--theme-code-foreground, var(--jp-content-font-color1, black)));\n",
       "  --sklearn-color-icon: #696969;\n",
       "\n",
       "  @media (prefers-color-scheme: dark) {\n",
       "    /* Redefinition of color scheme for dark theme */\n",
       "    --sklearn-color-text-on-default-background: var(--sg-text-color, var(--theme-code-foreground, var(--jp-content-font-color1, white)));\n",
       "    --sklearn-color-background: var(--sg-background-color, var(--theme-background, var(--jp-layout-color0, #111)));\n",
       "    --sklearn-color-border-box: var(--sg-text-color, var(--theme-code-foreground, var(--jp-content-font-color1, white)));\n",
       "    --sklearn-color-icon: #878787;\n",
       "  }\n",
       "}\n",
       "\n",
       "#sk-container-id-2 {\n",
       "  color: var(--sklearn-color-text);\n",
       "}\n",
       "\n",
       "#sk-container-id-2 pre {\n",
       "  padding: 0;\n",
       "}\n",
       "\n",
       "#sk-container-id-2 input.sk-hidden--visually {\n",
       "  border: 0;\n",
       "  clip: rect(1px 1px 1px 1px);\n",
       "  clip: rect(1px, 1px, 1px, 1px);\n",
       "  height: 1px;\n",
       "  margin: -1px;\n",
       "  overflow: hidden;\n",
       "  padding: 0;\n",
       "  position: absolute;\n",
       "  width: 1px;\n",
       "}\n",
       "\n",
       "#sk-container-id-2 div.sk-dashed-wrapped {\n",
       "  border: 1px dashed var(--sklearn-color-line);\n",
       "  margin: 0 0.4em 0.5em 0.4em;\n",
       "  box-sizing: border-box;\n",
       "  padding-bottom: 0.4em;\n",
       "  background-color: var(--sklearn-color-background);\n",
       "}\n",
       "\n",
       "#sk-container-id-2 div.sk-container {\n",
       "  /* jupyter's `normalize.less` sets `[hidden] { display: none; }`\n",
       "     but bootstrap.min.css set `[hidden] { display: none !important; }`\n",
       "     so we also need the `!important` here to be able to override the\n",
       "     default hidden behavior on the sphinx rendered scikit-learn.org.\n",
       "     See: https://github.com/scikit-learn/scikit-learn/issues/21755 */\n",
       "  display: inline-block !important;\n",
       "  position: relative;\n",
       "}\n",
       "\n",
       "#sk-container-id-2 div.sk-text-repr-fallback {\n",
       "  display: none;\n",
       "}\n",
       "\n",
       "div.sk-parallel-item,\n",
       "div.sk-serial,\n",
       "div.sk-item {\n",
       "  /* draw centered vertical line to link estimators */\n",
       "  background-image: linear-gradient(var(--sklearn-color-text-on-default-background), var(--sklearn-color-text-on-default-background));\n",
       "  background-size: 2px 100%;\n",
       "  background-repeat: no-repeat;\n",
       "  background-position: center center;\n",
       "}\n",
       "\n",
       "/* Parallel-specific style estimator block */\n",
       "\n",
       "#sk-container-id-2 div.sk-parallel-item::after {\n",
       "  content: \"\";\n",
       "  width: 100%;\n",
       "  border-bottom: 2px solid var(--sklearn-color-text-on-default-background);\n",
       "  flex-grow: 1;\n",
       "}\n",
       "\n",
       "#sk-container-id-2 div.sk-parallel {\n",
       "  display: flex;\n",
       "  align-items: stretch;\n",
       "  justify-content: center;\n",
       "  background-color: var(--sklearn-color-background);\n",
       "  position: relative;\n",
       "}\n",
       "\n",
       "#sk-container-id-2 div.sk-parallel-item {\n",
       "  display: flex;\n",
       "  flex-direction: column;\n",
       "}\n",
       "\n",
       "#sk-container-id-2 div.sk-parallel-item:first-child::after {\n",
       "  align-self: flex-end;\n",
       "  width: 50%;\n",
       "}\n",
       "\n",
       "#sk-container-id-2 div.sk-parallel-item:last-child::after {\n",
       "  align-self: flex-start;\n",
       "  width: 50%;\n",
       "}\n",
       "\n",
       "#sk-container-id-2 div.sk-parallel-item:only-child::after {\n",
       "  width: 0;\n",
       "}\n",
       "\n",
       "/* Serial-specific style estimator block */\n",
       "\n",
       "#sk-container-id-2 div.sk-serial {\n",
       "  display: flex;\n",
       "  flex-direction: column;\n",
       "  align-items: center;\n",
       "  background-color: var(--sklearn-color-background);\n",
       "  padding-right: 1em;\n",
       "  padding-left: 1em;\n",
       "}\n",
       "\n",
       "\n",
       "/* Toggleable style: style used for estimator/Pipeline/ColumnTransformer box that is\n",
       "clickable and can be expanded/collapsed.\n",
       "- Pipeline and ColumnTransformer use this feature and define the default style\n",
       "- Estimators will overwrite some part of the style using the `sk-estimator` class\n",
       "*/\n",
       "\n",
       "/* Pipeline and ColumnTransformer style (default) */\n",
       "\n",
       "#sk-container-id-2 div.sk-toggleable {\n",
       "  /* Default theme specific background. It is overwritten whether we have a\n",
       "  specific estimator or a Pipeline/ColumnTransformer */\n",
       "  background-color: var(--sklearn-color-background);\n",
       "}\n",
       "\n",
       "/* Toggleable label */\n",
       "#sk-container-id-2 label.sk-toggleable__label {\n",
       "  cursor: pointer;\n",
       "  display: block;\n",
       "  width: 100%;\n",
       "  margin-bottom: 0;\n",
       "  padding: 0.5em;\n",
       "  box-sizing: border-box;\n",
       "  text-align: center;\n",
       "}\n",
       "\n",
       "#sk-container-id-2 label.sk-toggleable__label-arrow:before {\n",
       "  /* Arrow on the left of the label */\n",
       "  content: \"▸\";\n",
       "  float: left;\n",
       "  margin-right: 0.25em;\n",
       "  color: var(--sklearn-color-icon);\n",
       "}\n",
       "\n",
       "#sk-container-id-2 label.sk-toggleable__label-arrow:hover:before {\n",
       "  color: var(--sklearn-color-text);\n",
       "}\n",
       "\n",
       "/* Toggleable content - dropdown */\n",
       "\n",
       "#sk-container-id-2 div.sk-toggleable__content {\n",
       "  max-height: 0;\n",
       "  max-width: 0;\n",
       "  overflow: hidden;\n",
       "  text-align: left;\n",
       "  /* unfitted */\n",
       "  background-color: var(--sklearn-color-unfitted-level-0);\n",
       "}\n",
       "\n",
       "#sk-container-id-2 div.sk-toggleable__content.fitted {\n",
       "  /* fitted */\n",
       "  background-color: var(--sklearn-color-fitted-level-0);\n",
       "}\n",
       "\n",
       "#sk-container-id-2 div.sk-toggleable__content pre {\n",
       "  margin: 0.2em;\n",
       "  border-radius: 0.25em;\n",
       "  color: var(--sklearn-color-text);\n",
       "  /* unfitted */\n",
       "  background-color: var(--sklearn-color-unfitted-level-0);\n",
       "}\n",
       "\n",
       "#sk-container-id-2 div.sk-toggleable__content.fitted pre {\n",
       "  /* unfitted */\n",
       "  background-color: var(--sklearn-color-fitted-level-0);\n",
       "}\n",
       "\n",
       "#sk-container-id-2 input.sk-toggleable__control:checked~div.sk-toggleable__content {\n",
       "  /* Expand drop-down */\n",
       "  max-height: 200px;\n",
       "  max-width: 100%;\n",
       "  overflow: auto;\n",
       "}\n",
       "\n",
       "#sk-container-id-2 input.sk-toggleable__control:checked~label.sk-toggleable__label-arrow:before {\n",
       "  content: \"▾\";\n",
       "}\n",
       "\n",
       "/* Pipeline/ColumnTransformer-specific style */\n",
       "\n",
       "#sk-container-id-2 div.sk-label input.sk-toggleable__control:checked~label.sk-toggleable__label {\n",
       "  color: var(--sklearn-color-text);\n",
       "  background-color: var(--sklearn-color-unfitted-level-2);\n",
       "}\n",
       "\n",
       "#sk-container-id-2 div.sk-label.fitted input.sk-toggleable__control:checked~label.sk-toggleable__label {\n",
       "  background-color: var(--sklearn-color-fitted-level-2);\n",
       "}\n",
       "\n",
       "/* Estimator-specific style */\n",
       "\n",
       "/* Colorize estimator box */\n",
       "#sk-container-id-2 div.sk-estimator input.sk-toggleable__control:checked~label.sk-toggleable__label {\n",
       "  /* unfitted */\n",
       "  background-color: var(--sklearn-color-unfitted-level-2);\n",
       "}\n",
       "\n",
       "#sk-container-id-2 div.sk-estimator.fitted input.sk-toggleable__control:checked~label.sk-toggleable__label {\n",
       "  /* fitted */\n",
       "  background-color: var(--sklearn-color-fitted-level-2);\n",
       "}\n",
       "\n",
       "#sk-container-id-2 div.sk-label label.sk-toggleable__label,\n",
       "#sk-container-id-2 div.sk-label label {\n",
       "  /* The background is the default theme color */\n",
       "  color: var(--sklearn-color-text-on-default-background);\n",
       "}\n",
       "\n",
       "/* On hover, darken the color of the background */\n",
       "#sk-container-id-2 div.sk-label:hover label.sk-toggleable__label {\n",
       "  color: var(--sklearn-color-text);\n",
       "  background-color: var(--sklearn-color-unfitted-level-2);\n",
       "}\n",
       "\n",
       "/* Label box, darken color on hover, fitted */\n",
       "#sk-container-id-2 div.sk-label.fitted:hover label.sk-toggleable__label.fitted {\n",
       "  color: var(--sklearn-color-text);\n",
       "  background-color: var(--sklearn-color-fitted-level-2);\n",
       "}\n",
       "\n",
       "/* Estimator label */\n",
       "\n",
       "#sk-container-id-2 div.sk-label label {\n",
       "  font-family: monospace;\n",
       "  font-weight: bold;\n",
       "  display: inline-block;\n",
       "  line-height: 1.2em;\n",
       "}\n",
       "\n",
       "#sk-container-id-2 div.sk-label-container {\n",
       "  text-align: center;\n",
       "}\n",
       "\n",
       "/* Estimator-specific */\n",
       "#sk-container-id-2 div.sk-estimator {\n",
       "  font-family: monospace;\n",
       "  border: 1px dotted var(--sklearn-color-border-box);\n",
       "  border-radius: 0.25em;\n",
       "  box-sizing: border-box;\n",
       "  margin-bottom: 0.5em;\n",
       "  /* unfitted */\n",
       "  background-color: var(--sklearn-color-unfitted-level-0);\n",
       "}\n",
       "\n",
       "#sk-container-id-2 div.sk-estimator.fitted {\n",
       "  /* fitted */\n",
       "  background-color: var(--sklearn-color-fitted-level-0);\n",
       "}\n",
       "\n",
       "/* on hover */\n",
       "#sk-container-id-2 div.sk-estimator:hover {\n",
       "  /* unfitted */\n",
       "  background-color: var(--sklearn-color-unfitted-level-2);\n",
       "}\n",
       "\n",
       "#sk-container-id-2 div.sk-estimator.fitted:hover {\n",
       "  /* fitted */\n",
       "  background-color: var(--sklearn-color-fitted-level-2);\n",
       "}\n",
       "\n",
       "/* Specification for estimator info (e.g. \"i\" and \"?\") */\n",
       "\n",
       "/* Common style for \"i\" and \"?\" */\n",
       "\n",
       ".sk-estimator-doc-link,\n",
       "a:link.sk-estimator-doc-link,\n",
       "a:visited.sk-estimator-doc-link {\n",
       "  float: right;\n",
       "  font-size: smaller;\n",
       "  line-height: 1em;\n",
       "  font-family: monospace;\n",
       "  background-color: var(--sklearn-color-background);\n",
       "  border-radius: 1em;\n",
       "  height: 1em;\n",
       "  width: 1em;\n",
       "  text-decoration: none !important;\n",
       "  margin-left: 1ex;\n",
       "  /* unfitted */\n",
       "  border: var(--sklearn-color-unfitted-level-1) 1pt solid;\n",
       "  color: var(--sklearn-color-unfitted-level-1);\n",
       "}\n",
       "\n",
       ".sk-estimator-doc-link.fitted,\n",
       "a:link.sk-estimator-doc-link.fitted,\n",
       "a:visited.sk-estimator-doc-link.fitted {\n",
       "  /* fitted */\n",
       "  border: var(--sklearn-color-fitted-level-1) 1pt solid;\n",
       "  color: var(--sklearn-color-fitted-level-1);\n",
       "}\n",
       "\n",
       "/* On hover */\n",
       "div.sk-estimator:hover .sk-estimator-doc-link:hover,\n",
       ".sk-estimator-doc-link:hover,\n",
       "div.sk-label-container:hover .sk-estimator-doc-link:hover,\n",
       ".sk-estimator-doc-link:hover {\n",
       "  /* unfitted */\n",
       "  background-color: var(--sklearn-color-unfitted-level-3);\n",
       "  color: var(--sklearn-color-background);\n",
       "  text-decoration: none;\n",
       "}\n",
       "\n",
       "div.sk-estimator.fitted:hover .sk-estimator-doc-link.fitted:hover,\n",
       ".sk-estimator-doc-link.fitted:hover,\n",
       "div.sk-label-container:hover .sk-estimator-doc-link.fitted:hover,\n",
       ".sk-estimator-doc-link.fitted:hover {\n",
       "  /* fitted */\n",
       "  background-color: var(--sklearn-color-fitted-level-3);\n",
       "  color: var(--sklearn-color-background);\n",
       "  text-decoration: none;\n",
       "}\n",
       "\n",
       "/* Span, style for the box shown on hovering the info icon */\n",
       ".sk-estimator-doc-link span {\n",
       "  display: none;\n",
       "  z-index: 9999;\n",
       "  position: relative;\n",
       "  font-weight: normal;\n",
       "  right: .2ex;\n",
       "  padding: .5ex;\n",
       "  margin: .5ex;\n",
       "  width: min-content;\n",
       "  min-width: 20ex;\n",
       "  max-width: 50ex;\n",
       "  color: var(--sklearn-color-text);\n",
       "  box-shadow: 2pt 2pt 4pt #999;\n",
       "  /* unfitted */\n",
       "  background: var(--sklearn-color-unfitted-level-0);\n",
       "  border: .5pt solid var(--sklearn-color-unfitted-level-3);\n",
       "}\n",
       "\n",
       ".sk-estimator-doc-link.fitted span {\n",
       "  /* fitted */\n",
       "  background: var(--sklearn-color-fitted-level-0);\n",
       "  border: var(--sklearn-color-fitted-level-3);\n",
       "}\n",
       "\n",
       ".sk-estimator-doc-link:hover span {\n",
       "  display: block;\n",
       "}\n",
       "\n",
       "/* \"?\"-specific style due to the `<a>` HTML tag */\n",
       "\n",
       "#sk-container-id-2 a.estimator_doc_link {\n",
       "  float: right;\n",
       "  font-size: 1rem;\n",
       "  line-height: 1em;\n",
       "  font-family: monospace;\n",
       "  background-color: var(--sklearn-color-background);\n",
       "  border-radius: 1rem;\n",
       "  height: 1rem;\n",
       "  width: 1rem;\n",
       "  text-decoration: none;\n",
       "  /* unfitted */\n",
       "  color: var(--sklearn-color-unfitted-level-1);\n",
       "  border: var(--sklearn-color-unfitted-level-1) 1pt solid;\n",
       "}\n",
       "\n",
       "#sk-container-id-2 a.estimator_doc_link.fitted {\n",
       "  /* fitted */\n",
       "  border: var(--sklearn-color-fitted-level-1) 1pt solid;\n",
       "  color: var(--sklearn-color-fitted-level-1);\n",
       "}\n",
       "\n",
       "/* On hover */\n",
       "#sk-container-id-2 a.estimator_doc_link:hover {\n",
       "  /* unfitted */\n",
       "  background-color: var(--sklearn-color-unfitted-level-3);\n",
       "  color: var(--sklearn-color-background);\n",
       "  text-decoration: none;\n",
       "}\n",
       "\n",
       "#sk-container-id-2 a.estimator_doc_link.fitted:hover {\n",
       "  /* fitted */\n",
       "  background-color: var(--sklearn-color-fitted-level-3);\n",
       "}\n",
       "</style><div id=\"sk-container-id-2\" class=\"sk-top-container\"><div class=\"sk-text-repr-fallback\"><pre>SVC(C=0.001, gamma=1, kernel=&#x27;linear&#x27;)</pre><b>In a Jupyter environment, please rerun this cell to show the HTML representation or trust the notebook. <br />On GitHub, the HTML representation is unable to render, please try loading this page with nbviewer.org.</b></div><div class=\"sk-container\" hidden><div class=\"sk-item\"><div class=\"sk-estimator fitted sk-toggleable\"><input class=\"sk-toggleable__control sk-hidden--visually\" id=\"sk-estimator-id-2\" type=\"checkbox\" checked><label for=\"sk-estimator-id-2\" class=\"sk-toggleable__label fitted sk-toggleable__label-arrow fitted\">&nbsp;&nbsp;SVC<a class=\"sk-estimator-doc-link fitted\" rel=\"noreferrer\" target=\"_blank\" href=\"https://scikit-learn.org/1.4/modules/generated/sklearn.svm.SVC.html\">?<span>Documentation for SVC</span></a><span class=\"sk-estimator-doc-link fitted\">i<span>Fitted</span></span></label><div class=\"sk-toggleable__content fitted\"><pre>SVC(C=0.001, gamma=1, kernel=&#x27;linear&#x27;)</pre></div> </div></div></div></div>"
      ],
      "text/plain": [
       "SVC(C=0.001, gamma=1, kernel='linear')"
      ]
     },
     "execution_count": 170,
     "metadata": {},
     "output_type": "execute_result"
    }
   ],
   "source": [
    "# Final Model\n",
    "\n",
    "final_model = SVC(C=0.001, gamma=1, kernel='linear')\n",
    "\n",
    "final_model.fit(X, y)\n",
    "\n",
    "# Took almost 2 and half hours to get the model fit in!!!!!"
   ]
  },
  {
   "cell_type": "markdown",
   "id": "65eb33e8-1efc-4742-80d8-a4b99e7c12e8",
   "metadata": {},
   "source": [
    "#### 2. Model Deployment"
   ]
  },
  {
   "cell_type": "code",
   "execution_count": 204,
   "id": "e7fb6117-cb82-48f9-81f0-c414f6b6e59e",
   "metadata": {},
   "outputs": [],
   "source": [
    "# Imports\n",
    "from joblib import dump, load\n",
    "from sklearn.compose import ColumnTransformer"
   ]
  },
  {
   "cell_type": "code",
   "execution_count": 208,
   "id": "f2d7c358-72a2-418c-a0d6-9a129ad20729",
   "metadata": {},
   "outputs": [
    {
     "data": {
      "text/plain": [
       "['preprocessor.pkl']"
      ]
     },
     "execution_count": 208,
     "metadata": {},
     "output_type": "execute_result"
    }
   ],
   "source": [
    "# Export model\n",
    "dump(final_model, 'TermDepositmodel.joblib')\n",
    "\n",
    "# Define columns to be scaled and encoded\n",
    "cols_to_scale = ['age', 'balance', 'campaign', 'pdays', 'previous']  \n",
    "cols_to_encode = ['job', 'marital', \n",
    "                  'education', 'default', \n",
    "                  'housing', 'loan', \n",
    "                  'poutcome']\n",
    "\n",
    "# Export preprocessor\n",
    "scaler = StandardScaler()\n",
    "encoder = OneHotEncoder(drop='if_binary', sparse_output=False)\n",
    "\n",
    "preprocessor =  ColumnTransformer(\n",
    "                transformers=[('scale', scaler, cols_to_scale),\n",
    "                              ('encode', encoder, cols_to_encode)])\n",
    "dump(preprocessor, 'preprocessor.pkl')"
   ]
  },
  {
   "cell_type": "code",
   "execution_count": 210,
   "id": "186a1cad-1d3f-4cb3-b113-b7ef813361dd",
   "metadata": {},
   "outputs": [],
   "source": [
    "# load model\n",
    "loaded_model = load('TermDepositmodel.joblib')"
   ]
  },
  {
   "cell_type": "markdown",
   "id": "89c33671-4a90-4df9-9979-e83be8abd650",
   "metadata": {},
   "source": [
    "#### 3. Prediction"
   ]
  },
  {
   "cell_type": "code",
   "execution_count": 184,
   "id": "e9b40004-7116-429c-a7c8-878f862a9a4f",
   "metadata": {},
   "outputs": [],
   "source": [
    "data = {'age': 28,\n",
    "        'job': 'management',\n",
    "        'marital': 'divorced',\n",
    "        'education': 'tertiary',\n",
    "        'default': 'no',\n",
    "        'balance': 229,\n",
    "        'housing': 'yes',\n",
    "        'loan': 'no',\n",
    "        'campaign': 2,\n",
    "        'pdays': 315,\n",
    "        'previous': 2,\n",
    "        'poutcome': 'other',\n",
    "        'term deposit': 1}  # Drop this col later\n"
   ]
  },
  {
   "cell_type": "code",
   "execution_count": 186,
   "id": "1b913045-29b5-4821-99eb-8908699355cd",
   "metadata": {},
   "outputs": [],
   "source": [
    "new_data = pd.DataFrame([data])\n",
    "\n",
    "new_data = new_data.drop('term deposit', axis=1)"
   ]
  },
  {
   "cell_type": "code",
   "execution_count": 216,
   "id": "b2c10335-4d41-431c-b0fb-851223b5de51",
   "metadata": {},
   "outputs": [
    {
     "data": {
      "text/html": [
       "<style>#sk-container-id-3 {\n",
       "  /* Definition of color scheme common for light and dark mode */\n",
       "  --sklearn-color-text: black;\n",
       "  --sklearn-color-line: gray;\n",
       "  /* Definition of color scheme for unfitted estimators */\n",
       "  --sklearn-color-unfitted-level-0: #fff5e6;\n",
       "  --sklearn-color-unfitted-level-1: #f6e4d2;\n",
       "  --sklearn-color-unfitted-level-2: #ffe0b3;\n",
       "  --sklearn-color-unfitted-level-3: chocolate;\n",
       "  /* Definition of color scheme for fitted estimators */\n",
       "  --sklearn-color-fitted-level-0: #f0f8ff;\n",
       "  --sklearn-color-fitted-level-1: #d4ebff;\n",
       "  --sklearn-color-fitted-level-2: #b3dbfd;\n",
       "  --sklearn-color-fitted-level-3: cornflowerblue;\n",
       "\n",
       "  /* Specific color for light theme */\n",
       "  --sklearn-color-text-on-default-background: var(--sg-text-color, var(--theme-code-foreground, var(--jp-content-font-color1, black)));\n",
       "  --sklearn-color-background: var(--sg-background-color, var(--theme-background, var(--jp-layout-color0, white)));\n",
       "  --sklearn-color-border-box: var(--sg-text-color, var(--theme-code-foreground, var(--jp-content-font-color1, black)));\n",
       "  --sklearn-color-icon: #696969;\n",
       "\n",
       "  @media (prefers-color-scheme: dark) {\n",
       "    /* Redefinition of color scheme for dark theme */\n",
       "    --sklearn-color-text-on-default-background: var(--sg-text-color, var(--theme-code-foreground, var(--jp-content-font-color1, white)));\n",
       "    --sklearn-color-background: var(--sg-background-color, var(--theme-background, var(--jp-layout-color0, #111)));\n",
       "    --sklearn-color-border-box: var(--sg-text-color, var(--theme-code-foreground, var(--jp-content-font-color1, white)));\n",
       "    --sklearn-color-icon: #878787;\n",
       "  }\n",
       "}\n",
       "\n",
       "#sk-container-id-3 {\n",
       "  color: var(--sklearn-color-text);\n",
       "}\n",
       "\n",
       "#sk-container-id-3 pre {\n",
       "  padding: 0;\n",
       "}\n",
       "\n",
       "#sk-container-id-3 input.sk-hidden--visually {\n",
       "  border: 0;\n",
       "  clip: rect(1px 1px 1px 1px);\n",
       "  clip: rect(1px, 1px, 1px, 1px);\n",
       "  height: 1px;\n",
       "  margin: -1px;\n",
       "  overflow: hidden;\n",
       "  padding: 0;\n",
       "  position: absolute;\n",
       "  width: 1px;\n",
       "}\n",
       "\n",
       "#sk-container-id-3 div.sk-dashed-wrapped {\n",
       "  border: 1px dashed var(--sklearn-color-line);\n",
       "  margin: 0 0.4em 0.5em 0.4em;\n",
       "  box-sizing: border-box;\n",
       "  padding-bottom: 0.4em;\n",
       "  background-color: var(--sklearn-color-background);\n",
       "}\n",
       "\n",
       "#sk-container-id-3 div.sk-container {\n",
       "  /* jupyter's `normalize.less` sets `[hidden] { display: none; }`\n",
       "     but bootstrap.min.css set `[hidden] { display: none !important; }`\n",
       "     so we also need the `!important` here to be able to override the\n",
       "     default hidden behavior on the sphinx rendered scikit-learn.org.\n",
       "     See: https://github.com/scikit-learn/scikit-learn/issues/21755 */\n",
       "  display: inline-block !important;\n",
       "  position: relative;\n",
       "}\n",
       "\n",
       "#sk-container-id-3 div.sk-text-repr-fallback {\n",
       "  display: none;\n",
       "}\n",
       "\n",
       "div.sk-parallel-item,\n",
       "div.sk-serial,\n",
       "div.sk-item {\n",
       "  /* draw centered vertical line to link estimators */\n",
       "  background-image: linear-gradient(var(--sklearn-color-text-on-default-background), var(--sklearn-color-text-on-default-background));\n",
       "  background-size: 2px 100%;\n",
       "  background-repeat: no-repeat;\n",
       "  background-position: center center;\n",
       "}\n",
       "\n",
       "/* Parallel-specific style estimator block */\n",
       "\n",
       "#sk-container-id-3 div.sk-parallel-item::after {\n",
       "  content: \"\";\n",
       "  width: 100%;\n",
       "  border-bottom: 2px solid var(--sklearn-color-text-on-default-background);\n",
       "  flex-grow: 1;\n",
       "}\n",
       "\n",
       "#sk-container-id-3 div.sk-parallel {\n",
       "  display: flex;\n",
       "  align-items: stretch;\n",
       "  justify-content: center;\n",
       "  background-color: var(--sklearn-color-background);\n",
       "  position: relative;\n",
       "}\n",
       "\n",
       "#sk-container-id-3 div.sk-parallel-item {\n",
       "  display: flex;\n",
       "  flex-direction: column;\n",
       "}\n",
       "\n",
       "#sk-container-id-3 div.sk-parallel-item:first-child::after {\n",
       "  align-self: flex-end;\n",
       "  width: 50%;\n",
       "}\n",
       "\n",
       "#sk-container-id-3 div.sk-parallel-item:last-child::after {\n",
       "  align-self: flex-start;\n",
       "  width: 50%;\n",
       "}\n",
       "\n",
       "#sk-container-id-3 div.sk-parallel-item:only-child::after {\n",
       "  width: 0;\n",
       "}\n",
       "\n",
       "/* Serial-specific style estimator block */\n",
       "\n",
       "#sk-container-id-3 div.sk-serial {\n",
       "  display: flex;\n",
       "  flex-direction: column;\n",
       "  align-items: center;\n",
       "  background-color: var(--sklearn-color-background);\n",
       "  padding-right: 1em;\n",
       "  padding-left: 1em;\n",
       "}\n",
       "\n",
       "\n",
       "/* Toggleable style: style used for estimator/Pipeline/ColumnTransformer box that is\n",
       "clickable and can be expanded/collapsed.\n",
       "- Pipeline and ColumnTransformer use this feature and define the default style\n",
       "- Estimators will overwrite some part of the style using the `sk-estimator` class\n",
       "*/\n",
       "\n",
       "/* Pipeline and ColumnTransformer style (default) */\n",
       "\n",
       "#sk-container-id-3 div.sk-toggleable {\n",
       "  /* Default theme specific background. It is overwritten whether we have a\n",
       "  specific estimator or a Pipeline/ColumnTransformer */\n",
       "  background-color: var(--sklearn-color-background);\n",
       "}\n",
       "\n",
       "/* Toggleable label */\n",
       "#sk-container-id-3 label.sk-toggleable__label {\n",
       "  cursor: pointer;\n",
       "  display: block;\n",
       "  width: 100%;\n",
       "  margin-bottom: 0;\n",
       "  padding: 0.5em;\n",
       "  box-sizing: border-box;\n",
       "  text-align: center;\n",
       "}\n",
       "\n",
       "#sk-container-id-3 label.sk-toggleable__label-arrow:before {\n",
       "  /* Arrow on the left of the label */\n",
       "  content: \"▸\";\n",
       "  float: left;\n",
       "  margin-right: 0.25em;\n",
       "  color: var(--sklearn-color-icon);\n",
       "}\n",
       "\n",
       "#sk-container-id-3 label.sk-toggleable__label-arrow:hover:before {\n",
       "  color: var(--sklearn-color-text);\n",
       "}\n",
       "\n",
       "/* Toggleable content - dropdown */\n",
       "\n",
       "#sk-container-id-3 div.sk-toggleable__content {\n",
       "  max-height: 0;\n",
       "  max-width: 0;\n",
       "  overflow: hidden;\n",
       "  text-align: left;\n",
       "  /* unfitted */\n",
       "  background-color: var(--sklearn-color-unfitted-level-0);\n",
       "}\n",
       "\n",
       "#sk-container-id-3 div.sk-toggleable__content.fitted {\n",
       "  /* fitted */\n",
       "  background-color: var(--sklearn-color-fitted-level-0);\n",
       "}\n",
       "\n",
       "#sk-container-id-3 div.sk-toggleable__content pre {\n",
       "  margin: 0.2em;\n",
       "  border-radius: 0.25em;\n",
       "  color: var(--sklearn-color-text);\n",
       "  /* unfitted */\n",
       "  background-color: var(--sklearn-color-unfitted-level-0);\n",
       "}\n",
       "\n",
       "#sk-container-id-3 div.sk-toggleable__content.fitted pre {\n",
       "  /* unfitted */\n",
       "  background-color: var(--sklearn-color-fitted-level-0);\n",
       "}\n",
       "\n",
       "#sk-container-id-3 input.sk-toggleable__control:checked~div.sk-toggleable__content {\n",
       "  /* Expand drop-down */\n",
       "  max-height: 200px;\n",
       "  max-width: 100%;\n",
       "  overflow: auto;\n",
       "}\n",
       "\n",
       "#sk-container-id-3 input.sk-toggleable__control:checked~label.sk-toggleable__label-arrow:before {\n",
       "  content: \"▾\";\n",
       "}\n",
       "\n",
       "/* Pipeline/ColumnTransformer-specific style */\n",
       "\n",
       "#sk-container-id-3 div.sk-label input.sk-toggleable__control:checked~label.sk-toggleable__label {\n",
       "  color: var(--sklearn-color-text);\n",
       "  background-color: var(--sklearn-color-unfitted-level-2);\n",
       "}\n",
       "\n",
       "#sk-container-id-3 div.sk-label.fitted input.sk-toggleable__control:checked~label.sk-toggleable__label {\n",
       "  background-color: var(--sklearn-color-fitted-level-2);\n",
       "}\n",
       "\n",
       "/* Estimator-specific style */\n",
       "\n",
       "/* Colorize estimator box */\n",
       "#sk-container-id-3 div.sk-estimator input.sk-toggleable__control:checked~label.sk-toggleable__label {\n",
       "  /* unfitted */\n",
       "  background-color: var(--sklearn-color-unfitted-level-2);\n",
       "}\n",
       "\n",
       "#sk-container-id-3 div.sk-estimator.fitted input.sk-toggleable__control:checked~label.sk-toggleable__label {\n",
       "  /* fitted */\n",
       "  background-color: var(--sklearn-color-fitted-level-2);\n",
       "}\n",
       "\n",
       "#sk-container-id-3 div.sk-label label.sk-toggleable__label,\n",
       "#sk-container-id-3 div.sk-label label {\n",
       "  /* The background is the default theme color */\n",
       "  color: var(--sklearn-color-text-on-default-background);\n",
       "}\n",
       "\n",
       "/* On hover, darken the color of the background */\n",
       "#sk-container-id-3 div.sk-label:hover label.sk-toggleable__label {\n",
       "  color: var(--sklearn-color-text);\n",
       "  background-color: var(--sklearn-color-unfitted-level-2);\n",
       "}\n",
       "\n",
       "/* Label box, darken color on hover, fitted */\n",
       "#sk-container-id-3 div.sk-label.fitted:hover label.sk-toggleable__label.fitted {\n",
       "  color: var(--sklearn-color-text);\n",
       "  background-color: var(--sklearn-color-fitted-level-2);\n",
       "}\n",
       "\n",
       "/* Estimator label */\n",
       "\n",
       "#sk-container-id-3 div.sk-label label {\n",
       "  font-family: monospace;\n",
       "  font-weight: bold;\n",
       "  display: inline-block;\n",
       "  line-height: 1.2em;\n",
       "}\n",
       "\n",
       "#sk-container-id-3 div.sk-label-container {\n",
       "  text-align: center;\n",
       "}\n",
       "\n",
       "/* Estimator-specific */\n",
       "#sk-container-id-3 div.sk-estimator {\n",
       "  font-family: monospace;\n",
       "  border: 1px dotted var(--sklearn-color-border-box);\n",
       "  border-radius: 0.25em;\n",
       "  box-sizing: border-box;\n",
       "  margin-bottom: 0.5em;\n",
       "  /* unfitted */\n",
       "  background-color: var(--sklearn-color-unfitted-level-0);\n",
       "}\n",
       "\n",
       "#sk-container-id-3 div.sk-estimator.fitted {\n",
       "  /* fitted */\n",
       "  background-color: var(--sklearn-color-fitted-level-0);\n",
       "}\n",
       "\n",
       "/* on hover */\n",
       "#sk-container-id-3 div.sk-estimator:hover {\n",
       "  /* unfitted */\n",
       "  background-color: var(--sklearn-color-unfitted-level-2);\n",
       "}\n",
       "\n",
       "#sk-container-id-3 div.sk-estimator.fitted:hover {\n",
       "  /* fitted */\n",
       "  background-color: var(--sklearn-color-fitted-level-2);\n",
       "}\n",
       "\n",
       "/* Specification for estimator info (e.g. \"i\" and \"?\") */\n",
       "\n",
       "/* Common style for \"i\" and \"?\" */\n",
       "\n",
       ".sk-estimator-doc-link,\n",
       "a:link.sk-estimator-doc-link,\n",
       "a:visited.sk-estimator-doc-link {\n",
       "  float: right;\n",
       "  font-size: smaller;\n",
       "  line-height: 1em;\n",
       "  font-family: monospace;\n",
       "  background-color: var(--sklearn-color-background);\n",
       "  border-radius: 1em;\n",
       "  height: 1em;\n",
       "  width: 1em;\n",
       "  text-decoration: none !important;\n",
       "  margin-left: 1ex;\n",
       "  /* unfitted */\n",
       "  border: var(--sklearn-color-unfitted-level-1) 1pt solid;\n",
       "  color: var(--sklearn-color-unfitted-level-1);\n",
       "}\n",
       "\n",
       ".sk-estimator-doc-link.fitted,\n",
       "a:link.sk-estimator-doc-link.fitted,\n",
       "a:visited.sk-estimator-doc-link.fitted {\n",
       "  /* fitted */\n",
       "  border: var(--sklearn-color-fitted-level-1) 1pt solid;\n",
       "  color: var(--sklearn-color-fitted-level-1);\n",
       "}\n",
       "\n",
       "/* On hover */\n",
       "div.sk-estimator:hover .sk-estimator-doc-link:hover,\n",
       ".sk-estimator-doc-link:hover,\n",
       "div.sk-label-container:hover .sk-estimator-doc-link:hover,\n",
       ".sk-estimator-doc-link:hover {\n",
       "  /* unfitted */\n",
       "  background-color: var(--sklearn-color-unfitted-level-3);\n",
       "  color: var(--sklearn-color-background);\n",
       "  text-decoration: none;\n",
       "}\n",
       "\n",
       "div.sk-estimator.fitted:hover .sk-estimator-doc-link.fitted:hover,\n",
       ".sk-estimator-doc-link.fitted:hover,\n",
       "div.sk-label-container:hover .sk-estimator-doc-link.fitted:hover,\n",
       ".sk-estimator-doc-link.fitted:hover {\n",
       "  /* fitted */\n",
       "  background-color: var(--sklearn-color-fitted-level-3);\n",
       "  color: var(--sklearn-color-background);\n",
       "  text-decoration: none;\n",
       "}\n",
       "\n",
       "/* Span, style for the box shown on hovering the info icon */\n",
       ".sk-estimator-doc-link span {\n",
       "  display: none;\n",
       "  z-index: 9999;\n",
       "  position: relative;\n",
       "  font-weight: normal;\n",
       "  right: .2ex;\n",
       "  padding: .5ex;\n",
       "  margin: .5ex;\n",
       "  width: min-content;\n",
       "  min-width: 20ex;\n",
       "  max-width: 50ex;\n",
       "  color: var(--sklearn-color-text);\n",
       "  box-shadow: 2pt 2pt 4pt #999;\n",
       "  /* unfitted */\n",
       "  background: var(--sklearn-color-unfitted-level-0);\n",
       "  border: .5pt solid var(--sklearn-color-unfitted-level-3);\n",
       "}\n",
       "\n",
       ".sk-estimator-doc-link.fitted span {\n",
       "  /* fitted */\n",
       "  background: var(--sklearn-color-fitted-level-0);\n",
       "  border: var(--sklearn-color-fitted-level-3);\n",
       "}\n",
       "\n",
       ".sk-estimator-doc-link:hover span {\n",
       "  display: block;\n",
       "}\n",
       "\n",
       "/* \"?\"-specific style due to the `<a>` HTML tag */\n",
       "\n",
       "#sk-container-id-3 a.estimator_doc_link {\n",
       "  float: right;\n",
       "  font-size: 1rem;\n",
       "  line-height: 1em;\n",
       "  font-family: monospace;\n",
       "  background-color: var(--sklearn-color-background);\n",
       "  border-radius: 1rem;\n",
       "  height: 1rem;\n",
       "  width: 1rem;\n",
       "  text-decoration: none;\n",
       "  /* unfitted */\n",
       "  color: var(--sklearn-color-unfitted-level-1);\n",
       "  border: var(--sklearn-color-unfitted-level-1) 1pt solid;\n",
       "}\n",
       "\n",
       "#sk-container-id-3 a.estimator_doc_link.fitted {\n",
       "  /* fitted */\n",
       "  border: var(--sklearn-color-fitted-level-1) 1pt solid;\n",
       "  color: var(--sklearn-color-fitted-level-1);\n",
       "}\n",
       "\n",
       "/* On hover */\n",
       "#sk-container-id-3 a.estimator_doc_link:hover {\n",
       "  /* unfitted */\n",
       "  background-color: var(--sklearn-color-unfitted-level-3);\n",
       "  color: var(--sklearn-color-background);\n",
       "  text-decoration: none;\n",
       "}\n",
       "\n",
       "#sk-container-id-3 a.estimator_doc_link.fitted:hover {\n",
       "  /* fitted */\n",
       "  background-color: var(--sklearn-color-fitted-level-3);\n",
       "}\n",
       "</style><div id=\"sk-container-id-3\" class=\"sk-top-container\"><div class=\"sk-text-repr-fallback\"><pre>ColumnTransformer(transformers=[(&#x27;scale&#x27;, StandardScaler(),\n",
       "                                 [&#x27;age&#x27;, &#x27;balance&#x27;, &#x27;campaign&#x27;, &#x27;pdays&#x27;,\n",
       "                                  &#x27;previous&#x27;]),\n",
       "                                (&#x27;encode&#x27;,\n",
       "                                 OneHotEncoder(drop=&#x27;if_binary&#x27;,\n",
       "                                               sparse_output=False),\n",
       "                                 [&#x27;job&#x27;, &#x27;marital&#x27;, &#x27;education&#x27;, &#x27;default&#x27;,\n",
       "                                  &#x27;housing&#x27;, &#x27;loan&#x27;, &#x27;poutcome&#x27;])])</pre><b>In a Jupyter environment, please rerun this cell to show the HTML representation or trust the notebook. <br />On GitHub, the HTML representation is unable to render, please try loading this page with nbviewer.org.</b></div><div class=\"sk-container\" hidden><div class=\"sk-item sk-dashed-wrapped\"><div class=\"sk-label-container\"><div class=\"sk-label fitted sk-toggleable\"><input class=\"sk-toggleable__control sk-hidden--visually\" id=\"sk-estimator-id-3\" type=\"checkbox\" ><label for=\"sk-estimator-id-3\" class=\"sk-toggleable__label fitted sk-toggleable__label-arrow fitted\">&nbsp;&nbsp;ColumnTransformer<a class=\"sk-estimator-doc-link fitted\" rel=\"noreferrer\" target=\"_blank\" href=\"https://scikit-learn.org/1.4/modules/generated/sklearn.compose.ColumnTransformer.html\">?<span>Documentation for ColumnTransformer</span></a><span class=\"sk-estimator-doc-link fitted\">i<span>Fitted</span></span></label><div class=\"sk-toggleable__content fitted\"><pre>ColumnTransformer(transformers=[(&#x27;scale&#x27;, StandardScaler(),\n",
       "                                 [&#x27;age&#x27;, &#x27;balance&#x27;, &#x27;campaign&#x27;, &#x27;pdays&#x27;,\n",
       "                                  &#x27;previous&#x27;]),\n",
       "                                (&#x27;encode&#x27;,\n",
       "                                 OneHotEncoder(drop=&#x27;if_binary&#x27;,\n",
       "                                               sparse_output=False),\n",
       "                                 [&#x27;job&#x27;, &#x27;marital&#x27;, &#x27;education&#x27;, &#x27;default&#x27;,\n",
       "                                  &#x27;housing&#x27;, &#x27;loan&#x27;, &#x27;poutcome&#x27;])])</pre></div> </div></div><div class=\"sk-parallel\"><div class=\"sk-parallel-item\"><div class=\"sk-item\"><div class=\"sk-label-container\"><div class=\"sk-label fitted sk-toggleable\"><input class=\"sk-toggleable__control sk-hidden--visually\" id=\"sk-estimator-id-4\" type=\"checkbox\" ><label for=\"sk-estimator-id-4\" class=\"sk-toggleable__label fitted sk-toggleable__label-arrow fitted\">scale</label><div class=\"sk-toggleable__content fitted\"><pre>[&#x27;age&#x27;, &#x27;balance&#x27;, &#x27;campaign&#x27;, &#x27;pdays&#x27;, &#x27;previous&#x27;]</pre></div> </div></div><div class=\"sk-serial\"><div class=\"sk-item\"><div class=\"sk-estimator fitted sk-toggleable\"><input class=\"sk-toggleable__control sk-hidden--visually\" id=\"sk-estimator-id-5\" type=\"checkbox\" ><label for=\"sk-estimator-id-5\" class=\"sk-toggleable__label fitted sk-toggleable__label-arrow fitted\">&nbsp;StandardScaler<a class=\"sk-estimator-doc-link fitted\" rel=\"noreferrer\" target=\"_blank\" href=\"https://scikit-learn.org/1.4/modules/generated/sklearn.preprocessing.StandardScaler.html\">?<span>Documentation for StandardScaler</span></a></label><div class=\"sk-toggleable__content fitted\"><pre>StandardScaler()</pre></div> </div></div></div></div></div><div class=\"sk-parallel-item\"><div class=\"sk-item\"><div class=\"sk-label-container\"><div class=\"sk-label fitted sk-toggleable\"><input class=\"sk-toggleable__control sk-hidden--visually\" id=\"sk-estimator-id-6\" type=\"checkbox\" ><label for=\"sk-estimator-id-6\" class=\"sk-toggleable__label fitted sk-toggleable__label-arrow fitted\">encode</label><div class=\"sk-toggleable__content fitted\"><pre>[&#x27;job&#x27;, &#x27;marital&#x27;, &#x27;education&#x27;, &#x27;default&#x27;, &#x27;housing&#x27;, &#x27;loan&#x27;, &#x27;poutcome&#x27;]</pre></div> </div></div><div class=\"sk-serial\"><div class=\"sk-item\"><div class=\"sk-estimator fitted sk-toggleable\"><input class=\"sk-toggleable__control sk-hidden--visually\" id=\"sk-estimator-id-7\" type=\"checkbox\" ><label for=\"sk-estimator-id-7\" class=\"sk-toggleable__label fitted sk-toggleable__label-arrow fitted\">&nbsp;OneHotEncoder<a class=\"sk-estimator-doc-link fitted\" rel=\"noreferrer\" target=\"_blank\" href=\"https://scikit-learn.org/1.4/modules/generated/sklearn.preprocessing.OneHotEncoder.html\">?<span>Documentation for OneHotEncoder</span></a></label><div class=\"sk-toggleable__content fitted\"><pre>OneHotEncoder(drop=&#x27;if_binary&#x27;, sparse_output=False)</pre></div> </div></div></div></div></div></div></div></div></div>"
      ],
      "text/plain": [
       "ColumnTransformer(transformers=[('scale', StandardScaler(),\n",
       "                                 ['age', 'balance', 'campaign', 'pdays',\n",
       "                                  'previous']),\n",
       "                                ('encode',\n",
       "                                 OneHotEncoder(drop='if_binary',\n",
       "                                               sparse_output=False),\n",
       "                                 ['job', 'marital', 'education', 'default',\n",
       "                                  'housing', 'loan', 'poutcome'])])"
      ]
     },
     "execution_count": 216,
     "metadata": {},
     "output_type": "execute_result"
    }
   ],
   "source": [
    "preprocessor.fit(new_data)"
   ]
  },
  {
   "cell_type": "code",
   "execution_count": 218,
   "id": "6c2b06d4-fb60-4101-af20-8b08a86063ef",
   "metadata": {},
   "outputs": [],
   "source": [
    "# Add any missing columns with default values (0)\n",
    "expected_columns = X_train_outliers.columns\n",
    "\n",
    "for col in expected_columns:\n",
    "    if col not in new_data_encoded.columns:\n",
    "        new_data_encoded[col] = 0\n",
    "\n",
    "# Reorder the columns to match the expected order\n",
    "new_data_encoded = new_data_encoded[expected_columns]"
   ]
  },
  {
   "cell_type": "code",
   "execution_count": 220,
   "id": "43e5cda5-5a9b-4590-912d-912eaa40e292",
   "metadata": {},
   "outputs": [],
   "source": [
    "# Make predictions \n",
    "y_predict = loaded_model.predict(new_data_encoded)"
   ]
  },
  {
   "cell_type": "code",
   "execution_count": 222,
   "id": "4187befc-3e81-4b95-ba34-e9b3576a45de",
   "metadata": {},
   "outputs": [
    {
     "data": {
      "text/plain": [
       "array([0])"
      ]
     },
     "execution_count": 222,
     "metadata": {},
     "output_type": "execute_result"
    }
   ],
   "source": [
    "y_predict"
   ]
  },
  {
   "cell_type": "code",
   "execution_count": null,
   "id": "e3b0adf0-ccc8-4f96-8a02-68e53033b4dc",
   "metadata": {},
   "outputs": [],
   "source": [
    "# In order to get a high precision rate, the SVM model sacrifices recall rate, which might miss a lot of acutal subscirbers. "
   ]
  }
 ],
 "metadata": {
  "kernelspec": {
   "display_name": "Python 3 (ipykernel)",
   "language": "python",
   "name": "python3"
  },
  "language_info": {
   "codemirror_mode": {
    "name": "ipython",
    "version": 3
   },
   "file_extension": ".py",
   "mimetype": "text/x-python",
   "name": "python",
   "nbconvert_exporter": "python",
   "pygments_lexer": "ipython3",
   "version": "3.12.4"
  }
 },
 "nbformat": 4,
 "nbformat_minor": 5
}
